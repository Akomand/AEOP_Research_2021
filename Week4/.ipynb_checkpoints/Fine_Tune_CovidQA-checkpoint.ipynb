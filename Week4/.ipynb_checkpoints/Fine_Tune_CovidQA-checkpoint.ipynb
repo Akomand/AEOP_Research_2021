{
 "cells": [
  {
   "cell_type": "code",
   "execution_count": 145,
   "metadata": {},
   "outputs": [],
   "source": [
    "!pip install --quiet transformers"
   ]
  },
  {
   "cell_type": "code",
   "execution_count": 146,
   "metadata": {},
   "outputs": [
    {
     "name": "stdout",
     "output_type": "stream",
     "text": [
      "Python 3.8.10\r\n"
     ]
    }
   ],
   "source": [
    "!python --version"
   ]
  },
  {
   "cell_type": "code",
   "execution_count": 147,
   "metadata": {},
   "outputs": [
    {
     "name": "stdout",
     "output_type": "stream",
     "text": [
      "/home/nlpab/anaconda3/envs/aeop/lib/python3.8/site-packages/torchaudio/backend/utils.py:53: UserWarning: \"sox\" backend is being deprecated. The default backend will be changed to \"sox_io\" backend in 0.8.0 and \"sox\" backend will be removed in 0.9.0. Please migrate to \"sox_io\" backend. Please refer to https://github.com/pytorch/audio/issues/903 for the detail.\n",
      "  warnings.warn(\n",
      "[{'label': 'POSITIVE', 'score': 0.9998704791069031}]\n"
     ]
    }
   ],
   "source": [
    "!python -c \"from transformers import pipeline; print(pipeline('sentiment-analysis')('we love you'))\""
   ]
  },
  {
   "cell_type": "code",
   "execution_count": 148,
   "metadata": {},
   "outputs": [
    {
     "name": "stdout",
     "output_type": "stream",
     "text": [
      "/home/nlpab/anaconda3/envs/aeop/bin/python3\r\n"
     ]
    }
   ],
   "source": [
    "!which python3"
   ]
  },
  {
   "cell_type": "code",
   "execution_count": 149,
   "metadata": {},
   "outputs": [
    {
     "name": "stdout",
     "output_type": "stream",
     "text": [
      "/home/nlpab/anaconda3/envs/aeop/bin/jupyter\r\n"
     ]
    }
   ],
   "source": [
    "!which jupyter"
   ]
  },
  {
   "cell_type": "code",
   "execution_count": 32,
   "metadata": {},
   "outputs": [],
   "source": [
    "import numpy"
   ]
  },
  {
   "cell_type": "code",
   "execution_count": 33,
   "metadata": {},
   "outputs": [],
   "source": [
    "import pickle # reading in our data\n",
    "\n",
    "import torch # pytorch\n",
    "from torch.utils.data import DataLoader # this helps us iterate over our data efficiently\n",
    "from tqdm import tqdm"
   ]
  },
  {
   "cell_type": "code",
   "execution_count": 34,
   "metadata": {},
   "outputs": [],
   "source": [
    "import transformers"
   ]
  },
  {
   "cell_type": "markdown",
   "metadata": {},
   "source": [
    "## Load Data"
   ]
  },
  {
   "cell_type": "markdown",
   "metadata": {},
   "source": [
    "### Load training data"
   ]
  },
  {
   "cell_type": "code",
   "execution_count": 35,
   "metadata": {},
   "outputs": [],
   "source": [
    "with open('./datasets/covidqa/covid_train_contexts.pkl', 'rb') as f1:\n",
    "  train_contexts = pickle.load(f1)"
   ]
  },
  {
   "cell_type": "code",
   "execution_count": 36,
   "metadata": {},
   "outputs": [],
   "source": [
    "with open('./datasets/covidqa/covid_train_questions.pkl', 'rb') as f2:\n",
    "  train_questions = pickle.load(f2)"
   ]
  },
  {
   "cell_type": "code",
   "execution_count": 37,
   "metadata": {},
   "outputs": [],
   "source": [
    "with open('./datasets/covidqa/covid_train_answers.pkl', 'rb') as f3:\n",
    "  train_answers = pickle.load(f3)"
   ]
  },
  {
   "cell_type": "markdown",
   "metadata": {},
   "source": [
    "### Load validation data"
   ]
  },
  {
   "cell_type": "code",
   "execution_count": 38,
   "metadata": {},
   "outputs": [],
   "source": [
    "with open('./datasets/covidqa/covid_val_contexts.pkl', 'rb') as f1:\n",
    "  val_contexts = pickle.load(f1)"
   ]
  },
  {
   "cell_type": "code",
   "execution_count": 39,
   "metadata": {},
   "outputs": [],
   "source": [
    "with open('./datasets/covidqa/covid_val_questions.pkl', 'rb') as f2:\n",
    "  val_questions = pickle.load(f2)"
   ]
  },
  {
   "cell_type": "code",
   "execution_count": 40,
   "metadata": {},
   "outputs": [],
   "source": [
    "with open('./datasets/covidqa/covid_val_answers.pkl', 'rb') as f3:\n",
    "  val_answers = pickle.load(f3)"
   ]
  },
  {
   "cell_type": "code",
   "execution_count": 41,
   "metadata": {},
   "outputs": [],
   "source": [
    "def add_end_index(answers, contexts):\n",
    "\n",
    "  # loop over each context-answer pair\n",
    "  for answer, context in zip(answers, contexts):\n",
    "\n",
    "    # the actual answer\n",
    "    expected_answer = answer['text']\n",
    "\n",
    "    # start index of the answer\n",
    "    start_index = answer['answer_start']\n",
    "\n",
    "    # end index\n",
    "    end_index = start_index + len(expected_answer)\n",
    "\n",
    "    # take into account if answer is off by a couple characters\n",
    "    if context[start_index:end_index] == expected_answer:\n",
    "      answer['answer_end'] = end_index\n",
    "    else:\n",
    "      # if answer is off by 1 or 2 tokens\n",
    "      for i in [1, 2]:\n",
    "        if context[start_index-i:end_index-i] == expected_answer:\n",
    "          answer['answer_start'] = start_index - i\n",
    "          answer['answer_end'] = end_index - i"
   ]
  },
  {
   "cell_type": "code",
   "execution_count": 42,
   "metadata": {},
   "outputs": [],
   "source": [
    "# apply our function above to dig up all the answer_start and end for each context-answer pair\n",
    "add_end_index(train_answers, train_contexts)\n",
    "add_end_index(val_answers, val_contexts)"
   ]
  },
  {
   "cell_type": "code",
   "execution_count": 43,
   "metadata": {},
   "outputs": [
    {
     "data": {
      "text/plain": [
       "[{'text': 'Mother-to-child transmission (MTCT) is the main cause of HIV-1 infection in children worldwide. ',\n",
       "  'answer_start': 370,\n",
       "  'answer_end': 466},\n",
       " {'text': 'DC-SIGNR plays a crucial role in MTCT of HIV-1 and that impaired placental DC-SIGNR expression increases risk of transmission.',\n",
       "  'answer_start': 2003,\n",
       "  'answer_end': 2129},\n",
       " {'text': 'more than 400,000 children were infected worldwide, mostly through MTCT and 90% of them lived in sub-Saharan Africa. ',\n",
       "  'answer_start': 2291,\n",
       "  'answer_end': 2408}]"
      ]
     },
     "execution_count": 43,
     "metadata": {},
     "output_type": "execute_result"
    }
   ],
   "source": [
    "train_answers[:3]"
   ]
  },
  {
   "cell_type": "code",
   "execution_count": 44,
   "metadata": {},
   "outputs": [
    {
     "data": {
      "application/vnd.jupyter.widget-view+json": {
       "model_id": "edf9a0ac25c442c49c52ab7206b17dd3",
       "version_major": 2,
       "version_minor": 0
      },
      "text/plain": [
       "Downloading:   0%|          | 0.00/760k [00:00<?, ?B/s]"
      ]
     },
     "metadata": {},
     "output_type": "display_data"
    },
    {
     "data": {
      "application/vnd.jupyter.widget-view+json": {
       "model_id": "02e51905cb244cd3899c11dbb1a00a21",
       "version_major": 2,
       "version_minor": 0
      },
      "text/plain": [
       "Downloading:   0%|          | 0.00/1.31M [00:00<?, ?B/s]"
      ]
     },
     "metadata": {},
     "output_type": "display_data"
    }
   ],
   "source": [
    "# from transformers import DistilBertTokenizerFast\n",
    "from transformers import AlbertTokenizerFast\n",
    "# defining the tokenizer we are going to use\n",
    "# tokenizer = DistilBertTokenizerFast.from_pretrained('distilbert-base-uncased')\n",
    "tokenizer = AlbertTokenizerFast.from_pretrained('albert-base-v2')"
   ]
  },
  {
   "cell_type": "code",
   "execution_count": 45,
   "metadata": {},
   "outputs": [],
   "source": [
    "# apply tokenizer to our training and validation datasets\n",
    "train_tokenized = tokenizer(train_contexts, train_questions, truncation=True, padding=True)\n",
    "val_tokenized = tokenizer(val_contexts, val_questions, truncation=True, padding=True)"
   ]
  },
  {
   "cell_type": "code",
   "execution_count": 46,
   "metadata": {},
   "outputs": [
    {
     "data": {
      "text/plain": [
       "'[CLS] functional genetic variants in dc-signr are associated with mother-to-child transmission of hiv-1 https://www.ncbi.nlm.nih.gov/pmc/articles/pmc2752805/ boily-larouche, genevieve; iscache, anne-laure; zijenah, lynn s.; humphrey, jean h.; mouland, andrew j.; ward, brian j.; roger, michel 2009-10-07 doi:10.1371/journal.pone.0007211 license:cc-by abstract: background: mother-to-child transmission (mtct) is the main cause of hiv-1 infection in children worldwide. given that the c-type lectin receptor, dendritic cell-specific icam-grabbing non-integrin-related (dc-signr, also known as cd209l or liver/lymph node–specific icam-grabbing non-integrin (l-sign)), can interact with pathogens including hiv-1 and is expressed at the maternal-fetal interface, we hypothesized that it could influence mtct of hiv-1. methods and findings: to investigate the potential role of dc-signr in mtct of hiv-1, we carried out a genetic association study of dc-signr in a well-characterized cohort of 197 hiv-infected mothers and their infants recruited in harare, zimbabwe. infants harbouring two copies of dc-signr h1 and/or h3 haplotypes (h1-h1, h1-h3, h3-h3) had a 3.6-fold increased risk of in utero (iu) (p = 0.013) hiv-1 infection and a 5.7-fold increased risk of intrapartum (ip) (p = 0.025) hiv-1 infection after adjusting for a number of maternal factors. the implicated h1 and h3 haplotypes share two single nucleotide polymorphisms (snps) in promoter region (p-198a) and intron 2 (int2-180a) that were associated with increased risk of both iu (p = 0.045 and p = 0.003, respectively) and ip[SEP] what is the main cause of hiv-1 infection in children?[SEP]'"
      ]
     },
     "execution_count": 46,
     "metadata": {},
     "output_type": "execute_result"
    }
   ],
   "source": [
    "tokenizer.decode(train_tokenized['input_ids'][0])"
   ]
  },
  {
   "cell_type": "code",
   "execution_count": 47,
   "metadata": {},
   "outputs": [],
   "source": [
    "def add_token_positions(tokenized_data, answers):\n",
    "  # let's define a couple lists to keep track of our start/end tokens\n",
    "  start_positions = [] # aggregate all start positions for each sample\n",
    "  end_positions = [] # aggregate all end positions for each sample\n",
    "\n",
    "  # loop over the answers list\n",
    "  for i in range(len(answers)):\n",
    "    # add the start and end encodings to our lists\n",
    "    start_positions.append(tokenized_data.char_to_token(i, answers[i]['answer_start']))\n",
    "    end_positions.append(tokenized_data.char_to_token(i, answers[i]['answer_end']))\n",
    "\n",
    "    # if no start position, the answer passage was truncated\n",
    "    if start_positions[-1] is None:\n",
    "      start_positions[-1] = tokenizer.model_max_length\n",
    "    \n",
    "    # if we can't find the end positions, then we want to shift characters left until we do find it\n",
    "    shift = 1\n",
    "    while end_positions[-1] is None:\n",
    "      end_positions[-1] = tokenized_data.char_to_token(i, answers[i]['answer_end'] - shift)\n",
    "      shift += 1\n",
    "  \n",
    "  tokenized_data.update({'start_positions': start_positions, 'end_positions': end_positions})"
   ]
  },
  {
   "cell_type": "code",
   "execution_count": 48,
   "metadata": {},
   "outputs": [],
   "source": [
    "# apply function to train and validations data\n",
    "add_token_positions(train_tokenized, train_answers)\n",
    "add_token_positions(val_tokenized, val_answers)"
   ]
  },
  {
   "cell_type": "code",
   "execution_count": 49,
   "metadata": {},
   "outputs": [
    {
     "data": {
      "text/plain": [
       "dict_keys(['input_ids', 'token_type_ids', 'attention_mask', 'start_positions', 'end_positions'])"
      ]
     },
     "execution_count": 49,
     "metadata": {},
     "output_type": "execute_result"
    }
   ],
   "source": [
    "train_tokenized.keys()"
   ]
  },
  {
   "cell_type": "code",
   "execution_count": 50,
   "metadata": {},
   "outputs": [],
   "source": [
    "class CovidDataset(torch.utils.data.Dataset):\n",
    "  # constructor\n",
    "  def __init__(self, encodings):\n",
    "    self.encodings = encodings\n",
    "  \n",
    "  # Query to get a specific item at an index in our dataset\n",
    "  def __getitem__(self, idx):\n",
    "    return {key: torch.tensor(val[idx]) for key, val in self.encodings.items()} # comprehension (shortcut)\n",
    "\n",
    "  # returns the length of our dataset\n",
    "  def __len__(self):\n",
    "    return len(self.encodings.input_ids)"
   ]
  },
  {
   "cell_type": "code",
   "execution_count": 51,
   "metadata": {},
   "outputs": [],
   "source": [
    "# Datasets for the training and validations sets\n",
    "train_data = CovidDataset(train_tokenized)\n",
    "val_data = CovidDataset(val_tokenized)"
   ]
  },
  {
   "cell_type": "code",
   "execution_count": 52,
   "metadata": {},
   "outputs": [],
   "source": [
    "# Used to help us iterate over our dataset conveniently, especially when we have batches\n",
    "train_dataloader = DataLoader(train_data, batch_size=8, shuffle=True)\n",
    "val_dataloader = DataLoader(val_data, batch_size=8, shuffle=True)"
   ]
  },
  {
   "cell_type": "code",
   "execution_count": 53,
   "metadata": {},
   "outputs": [
    {
     "data": {
      "application/vnd.jupyter.widget-view+json": {
       "model_id": "a5a6a4b34b2e4d459e583077d2e47bfa",
       "version_major": 2,
       "version_minor": 0
      },
      "text/plain": [
       "Downloading:   0%|          | 0.00/684 [00:00<?, ?B/s]"
      ]
     },
     "metadata": {},
     "output_type": "display_data"
    },
    {
     "data": {
      "application/vnd.jupyter.widget-view+json": {
       "model_id": "1c2422ae1c0f449caede580e627beb8b",
       "version_major": 2,
       "version_minor": 0
      },
      "text/plain": [
       "Downloading:   0%|          | 0.00/47.4M [00:00<?, ?B/s]"
      ]
     },
     "metadata": {},
     "output_type": "display_data"
    },
    {
     "name": "stderr",
     "output_type": "stream",
     "text": [
      "Some weights of the model checkpoint at albert-base-v2 were not used when initializing AlbertForQuestionAnswering: ['predictions.dense.bias', 'predictions.dense.weight', 'predictions.LayerNorm.bias', 'predictions.decoder.bias', 'predictions.LayerNorm.weight', 'predictions.decoder.weight', 'predictions.bias']\n",
      "- This IS expected if you are initializing AlbertForQuestionAnswering from the checkpoint of a model trained on another task or with another architecture (e.g. initializing a BertForSequenceClassification model from a BertForPreTraining model).\n",
      "- This IS NOT expected if you are initializing AlbertForQuestionAnswering from the checkpoint of a model that you expect to be exactly identical (initializing a BertForSequenceClassification model from a BertForSequenceClassification model).\n",
      "Some weights of AlbertForQuestionAnswering were not initialized from the model checkpoint at albert-base-v2 and are newly initialized: ['qa_outputs.bias', 'qa_outputs.weight']\n",
      "You should probably TRAIN this model on a down-stream task to be able to use it for predictions and inference.\n"
     ]
    }
   ],
   "source": [
    "from transformers import AlbertForQuestionAnswering # This is the BERT model used for question answering\n",
    "\n",
    "# BERT model already finetuned for question answering\n",
    "model = AlbertForQuestionAnswering.from_pretrained('albert-base-v2')"
   ]
  },
  {
   "cell_type": "code",
   "execution_count": 54,
   "metadata": {},
   "outputs": [],
   "source": [
    "from transformers import AdamW\n",
    "\n",
    "optim = AdamW(model.parameters(), lr=5e-5)"
   ]
  },
  {
   "cell_type": "code",
   "execution_count": 55,
   "metadata": {},
   "outputs": [
    {
     "name": "stdout",
     "output_type": "stream",
     "text": [
      "There are 2 GPUs available\n",
      "Device name: Quadro RTX 8000\n"
     ]
    }
   ],
   "source": [
    "if torch.cuda.is_available():\n",
    "  device = torch.device(\"cuda\") # this is the device our model will use for computing\n",
    "  print(f'There are {torch.cuda.device_count()} GPUs available')\n",
    "  print(f'Device name:', torch.cuda.get_device_name(0))\n",
    "else:\n",
    "  print('No GPU available, using CPU instead')\n",
    "  device = torch.device('cpu')"
   ]
  },
  {
   "cell_type": "code",
   "execution_count": 56,
   "metadata": {},
   "outputs": [],
   "source": [
    "model = model.to(device)"
   ]
  },
  {
   "cell_type": "code",
   "execution_count": 57,
   "metadata": {},
   "outputs": [],
   "source": [
    "def train(model, train_dataloader):\n",
    "\n",
    "  # run loop 3 times\n",
    "  for epoch in range(3):\n",
    "    # first, set the mode of the model to train\n",
    "    model.train()\n",
    "\n",
    "    # progress bar\n",
    "    loop = tqdm(train_dataloader, leave=True)\n",
    "\n",
    "    # loop over each batch \n",
    "    for batch in loop:\n",
    "      # zero out the optimizer\n",
    "      optim.zero_grad()\n",
    "\n",
    "      # grab the batch attributes and attach them to the GPU device\n",
    "      input_ids, attention_mask, start_positions, end_positions = batch['input_ids'].to(device), batch['attention_mask'].to(device), batch['start_positions'].to(device), batch['end_positions'].to(device)\n",
    "\n",
    "      # Feedforward!!!\n",
    "      outputs = model(input_ids, attention_mask, start_positions=start_positions, end_positions=end_positions)\n",
    "\n",
    "      # Compute the Loss\n",
    "      loss = outputs[0]\n",
    "\n",
    "      # BACKPROPAGATION!!!!\n",
    "      loss.backward()\n",
    "\n",
    "      # update parameters for the next run\n",
    "      optim.step()\n",
    "\n",
    "\n",
    "      # display some stuff here\n",
    "      loop.set_description(f'Epoch {epoch}')\n",
    "      loop.set_postfix(loss=loss.item())\n"
   ]
  },
  {
   "cell_type": "code",
   "execution_count": 58,
   "metadata": {},
   "outputs": [
    {
     "name": "stderr",
     "output_type": "stream",
     "text": [
      "Epoch 0: 100%|██████████| 202/202 [01:03<00:00,  3.18it/s, loss=4.29]  \n",
      "Epoch 1: 100%|██████████| 202/202 [01:04<00:00,  3.14it/s, loss=0.166] \n",
      "Epoch 2: 100%|██████████| 202/202 [01:04<00:00,  3.14it/s, loss=6.34]  \n"
     ]
    }
   ],
   "source": [
    "train(model, train_dataloader)"
   ]
  },
  {
   "cell_type": "code",
   "execution_count": 59,
   "metadata": {},
   "outputs": [],
   "source": [
    "def evaluate(model, val_dataloader):\n",
    "    # set to evaluate mode\n",
    "    model.eval()\n",
    "    \n",
    "    # keep track of accuracies\n",
    "    accuracies = []\n",
    "    \n",
    "    # loop through batches\n",
    "    for batch in val_dataloader:\n",
    "        # grab the batch attributes and attach them to the GPU device\n",
    "        input_ids, attention_mask, start_positions, end_positions = batch['input_ids'].to(device), batch['attention_mask'].to(device), batch['start_positions'].to(device), batch['end_positions'].to(device)\n",
    "        \n",
    "        # make prediction\n",
    "        outputs = model(input_ids, attention_mask=attention_mask)\n",
    "        \n",
    "        # get the prediction for the start and end token for answer\n",
    "        start_probs = outputs['start_logits']\n",
    "        end_probs = outputs['end_logits']\n",
    "        \n",
    "        start_pred = torch.argmax(start_probs, dim=1)\n",
    "        end_pred = torch.argmax(end_probs, dim=1)\n",
    "        \n",
    "        # append the accuracy\n",
    "        accuracies.append(((start_pred == start_positions).sum() / len(start_pred)).item())\n",
    "        accuracies.append(((end_pred == end_positions).sum() / len(end_pred)).item())\n",
    "    \n",
    "    avg_acc = sum(accuracies) / len(accuracies)\n",
    "    \n",
    "    return avg_acc\n",
    "    "
   ]
  },
  {
   "cell_type": "code",
   "execution_count": null,
   "metadata": {},
   "outputs": [],
   "source": [
    "avg_acc = evaluate(model, val_dataloader)"
   ]
  },
  {
   "cell_type": "code",
   "execution_count": 31,
   "metadata": {},
   "outputs": [
    {
     "data": {
      "text/plain": [
       "0.4497549019607843"
      ]
     },
     "execution_count": 31,
     "metadata": {},
     "output_type": "execute_result"
    }
   ],
   "source": [
    "avg_acc"
   ]
  },
  {
   "cell_type": "code",
   "execution_count": null,
   "metadata": {},
   "outputs": [],
   "source": []
  }
 ],
 "metadata": {
  "kernelspec": {
   "display_name": "Python 3",
   "language": "python",
   "name": "python3"
  },
  "language_info": {
   "codemirror_mode": {
    "name": "ipython",
    "version": 3
   },
   "file_extension": ".py",
   "mimetype": "text/x-python",
   "name": "python",
   "nbconvert_exporter": "python",
   "pygments_lexer": "ipython3",
   "version": "3.8.10"
  }
 },
 "nbformat": 4,
 "nbformat_minor": 4
}
