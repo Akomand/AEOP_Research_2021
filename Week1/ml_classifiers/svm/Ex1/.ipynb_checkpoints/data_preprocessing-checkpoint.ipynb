{
 "cells": [
  {
   "cell_type": "code",
   "execution_count": 1,
   "metadata": {},
   "outputs": [],
   "source": [
    "# used for manipulating directory paths\n",
    "import os\n",
    "\n",
    "# Scientific and vector computation for python\n",
    "import numpy as np\n",
    "\n",
    "# Import regular expressions to process emails\n",
    "import re\n",
    "\n",
    "# Plotting library\n",
    "from matplotlib import pyplot\n",
    "\n",
    "# Optimization module in scipy\n",
    "from scipy import optimize\n",
    "\n",
    "# will be used to load MATLAB mat datafile format\n",
    "from scipy.io import loadmat\n",
    "\n",
    "# library written for this exercise providing additional functions for assignment submission, and others\n",
    "import utils\n",
    "\n",
    "# define the submission/grader object for this exercise\n",
    "\n",
    "# tells matplotlib to embed plots within the notebook\n",
    "%matplotlib inline"
   ]
  },
  {
   "cell_type": "code",
   "execution_count": 2,
   "metadata": {},
   "outputs": [],
   "source": [
    "list1 = os.listdir('./Data/spam_assassin_emails/easy_ham')\n",
    "list2 = os.listdir('./Data/spam_assassin_emails/easy_ham_2')\n",
    "list3 = os.listdir('./Data/spam_assassin_emails/hard_ham')\n",
    "list4 = os.listdir('./Data/spam_assassin_emails/spam')\n",
    "list5 = os.listdir('./Data/spam_assassin_emails/spam_2')\n"
   ]
  },
  {
   "cell_type": "code",
   "execution_count": 3,
   "metadata": {},
   "outputs": [],
   "source": [
    "path, dirs, files = next(os.walk(\"./Data/spam_assassin_emails/easy_ham\"))\n",
    "file_count = len(files)\n",
    "\n",
    "path, dirs, files = next(os.walk(\"./Data/spam_assassin_emails/easy_ham_2\"))\n",
    "file_count1 = len(files)\n",
    "\n",
    "path, dirs, files = next(os.walk(\"./Data/spam_assassin_emails/hard_ham\"))\n",
    "file_count2 = len(files)\n",
    "\n",
    "path, dirs, files = next(os.walk(\"./Data/spam_assassin_emails/spam\"))\n",
    "file_count3 = len(files)\n",
    "\n",
    "path, dirs, files = next(os.walk(\"./Data/spam_assassin_emails/spam_2\"))\n",
    "file_count4 = len(files)"
   ]
  },
  {
   "cell_type": "code",
   "execution_count": 4,
   "metadata": {},
   "outputs": [
    {
     "name": "stdout",
     "output_type": "stream",
     "text": [
      "2551\n"
     ]
    }
   ],
   "source": [
    "print(file_count)"
   ]
  },
  {
   "cell_type": "code",
   "execution_count": null,
   "metadata": {},
   "outputs": [],
   "source": []
  },
  {
   "cell_type": "code",
   "execution_count": 5,
   "metadata": {},
   "outputs": [],
   "source": [
    "for i in range(0, file_count):\n",
    "    os.rename(r'./Data/spam_assassin_emails/easy_ham/' + list1[i], r'./Data/spam_assassin_emails/easy_ham/h_' + \"%04d\" % (i+1) + '.txt')\n",
    "    \n",
    "for i in range(0, file_count1):\n",
    "    os.rename(r'./Data/spam_assassin_emails/easy_ham_2/' + list2[i], r'./Data/spam_assassin_emails/easy_ham_2/h_' + \"%04d\" % (i+1+2551) + '.txt')\n",
    "\n",
    "for i in range(0, file_count2):\n",
    "    os.rename(r'./Data/spam_assassin_emails/hard_ham/' + list3[i], r'./Data/spam_assassin_emails/hard_ham/h_' + \"%04d\" % (i+1+3952) + '.txt')\n",
    "    \n",
    "    \n",
    "    \n",
    "for i in range(0, file_count3):\n",
    "    os.rename(r'./Data/spam_assassin_emails/spam/' + list4[i], r'./Data/spam_assassin_emails/spam/s_' + \"%04d\" % (i+1) + '.txt')\n",
    "\n",
    "for i in range(0, file_count4):\n",
    "    os.rename(r'./Data/spam_assassin_emails/spam_2/' + list5[i], r'./Data/spam_assassin_emails/spam_2/s_' + \"%04d\" % (i+1+501) + '.txt')\n",
    "    "
   ]
  },
  {
   "cell_type": "code",
   "execution_count": null,
   "metadata": {},
   "outputs": [],
   "source": []
  },
  {
   "cell_type": "code",
   "execution_count": null,
   "metadata": {},
   "outputs": [],
   "source": []
  }
 ],
 "metadata": {
  "kernelspec": {
   "display_name": "Python 3",
   "language": "python",
   "name": "python3"
  },
  "language_info": {
   "codemirror_mode": {
    "name": "ipython",
    "version": 2
   },
   "file_extension": ".py",
   "mimetype": "text/x-python",
   "name": "python",
   "nbconvert_exporter": "python",
   "pygments_lexer": "ipython2",
   "version": "2.7.16"
  }
 },
 "nbformat": 4,
 "nbformat_minor": 2
}
