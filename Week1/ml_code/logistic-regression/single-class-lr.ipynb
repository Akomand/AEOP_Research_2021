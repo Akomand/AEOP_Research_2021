{
 "cells": [
  {
   "cell_type": "code",
   "execution_count": 1,
   "metadata": {},
   "outputs": [],
   "source": [
    "import numpy as np\n",
    "import pandas as pd\n",
    "import matplotlib.pyplot as plt\n",
    "from mpl_toolkits.mplot3d import Axes3D\n",
    "from matplotlib import cm\n",
    "import seaborn as seabornInstance\n",
    "from sklearn.model_selection import train_test_split\n",
    "from sklearn.linear_model import LinearRegression\n",
    "from sklearn import metrics\n",
    "import scipy.optimize as opt\n",
    "from scipy.optimize import minimize\n",
    "from scipy import optimize\n",
    "import math\n",
    "%matplotlib inline"
   ]
  },
  {
   "cell_type": "code",
   "execution_count": 2,
   "metadata": {},
   "outputs": [],
   "source": [
    "dataset = pd.read_csv('./ex2data1.txt')\n",
    "data = np.array(dataset)"
   ]
  },
  {
   "cell_type": "code",
   "execution_count": 3,
   "metadata": {},
   "outputs": [
    {
     "data": {
      "text/plain": [
       "array([[34.62365962, 78.02469282,  0.        ],\n",
       "       [30.28671077, 43.89499752,  0.        ],\n",
       "       [35.84740877, 72.90219803,  0.        ],\n",
       "       [60.18259939, 86.3085521 ,  1.        ],\n",
       "       [79.03273605, 75.34437644,  1.        ],\n",
       "       [45.08327748, 56.31637178,  0.        ],\n",
       "       [61.10666454, 96.51142588,  1.        ],\n",
       "       [75.02474557, 46.55401354,  1.        ],\n",
       "       [76.0987867 , 87.42056972,  1.        ],\n",
       "       [84.43281996, 43.53339331,  1.        ],\n",
       "       [95.86155507, 38.22527806,  0.        ],\n",
       "       [75.01365839, 30.60326323,  0.        ],\n",
       "       [82.30705337, 76.4819633 ,  1.        ],\n",
       "       [69.36458876, 97.71869196,  1.        ],\n",
       "       [39.53833914, 76.03681085,  0.        ],\n",
       "       [53.97105215, 89.20735014,  1.        ],\n",
       "       [69.07014406, 52.74046973,  1.        ],\n",
       "       [67.94685548, 46.67857411,  0.        ],\n",
       "       [70.66150955, 92.92713789,  1.        ],\n",
       "       [76.97878373, 47.57596365,  1.        ],\n",
       "       [67.37202755, 42.83843832,  0.        ],\n",
       "       [89.67677575, 65.79936593,  1.        ],\n",
       "       [50.53478829, 48.85581153,  0.        ],\n",
       "       [34.21206098, 44.2095286 ,  0.        ],\n",
       "       [77.92409145, 68.97235999,  1.        ],\n",
       "       [62.27101367, 69.95445795,  1.        ],\n",
       "       [80.19018075, 44.82162893,  1.        ],\n",
       "       [93.1143888 , 38.80067034,  0.        ],\n",
       "       [61.83020602, 50.25610789,  0.        ],\n",
       "       [38.7858038 , 64.99568096,  0.        ],\n",
       "       [61.37928945, 72.80788731,  1.        ],\n",
       "       [85.40451939, 57.05198398,  1.        ],\n",
       "       [52.10797973, 63.12762377,  0.        ],\n",
       "       [52.04540477, 69.43286012,  1.        ],\n",
       "       [40.23689374, 71.16774802,  0.        ],\n",
       "       [54.63510555, 52.21388588,  0.        ],\n",
       "       [33.91550011, 98.86943574,  0.        ],\n",
       "       [64.17698887, 80.90806059,  1.        ],\n",
       "       [74.78925296, 41.57341523,  0.        ],\n",
       "       [34.18364003, 75.23772034,  0.        ],\n",
       "       [83.90239366, 56.30804622,  1.        ],\n",
       "       [51.54772027, 46.85629026,  0.        ],\n",
       "       [94.44336777, 65.56892161,  1.        ],\n",
       "       [82.36875376, 40.61825516,  0.        ],\n",
       "       [51.04775177, 45.82270146,  0.        ],\n",
       "       [62.22267576, 52.06099195,  0.        ],\n",
       "       [77.19303493, 70.4582    ,  1.        ],\n",
       "       [97.77159928, 86.72782233,  1.        ],\n",
       "       [62.0730638 , 96.76882412,  1.        ],\n",
       "       [91.5649745 , 88.69629255,  1.        ],\n",
       "       [79.94481794, 74.16311935,  1.        ],\n",
       "       [99.27252693, 60.999031  ,  1.        ],\n",
       "       [90.54671411, 43.39060181,  1.        ],\n",
       "       [34.52451385, 60.39634246,  0.        ],\n",
       "       [50.28649612, 49.80453881,  0.        ],\n",
       "       [49.58667722, 59.80895099,  0.        ],\n",
       "       [97.64563396, 68.86157272,  1.        ],\n",
       "       [32.57720017, 95.59854761,  0.        ],\n",
       "       [74.24869137, 69.82457123,  1.        ],\n",
       "       [71.79646206, 78.45356225,  1.        ],\n",
       "       [75.39561147, 85.75993667,  1.        ],\n",
       "       [35.28611282, 47.02051395,  0.        ],\n",
       "       [56.2538175 , 39.26147251,  0.        ],\n",
       "       [30.05882245, 49.59297387,  0.        ],\n",
       "       [44.66826172, 66.45008615,  0.        ],\n",
       "       [66.56089447, 41.09209808,  0.        ],\n",
       "       [40.45755098, 97.53518549,  1.        ],\n",
       "       [49.07256322, 51.88321182,  0.        ],\n",
       "       [80.27957401, 92.11606081,  1.        ],\n",
       "       [66.74671857, 60.99139403,  1.        ],\n",
       "       [32.72283304, 43.30717306,  0.        ],\n",
       "       [64.03932042, 78.03168802,  1.        ],\n",
       "       [72.34649423, 96.22759297,  1.        ],\n",
       "       [60.45788574, 73.0949981 ,  1.        ],\n",
       "       [58.84095622, 75.85844831,  1.        ],\n",
       "       [99.8278578 , 72.36925193,  1.        ],\n",
       "       [47.26426911, 88.475865  ,  1.        ],\n",
       "       [50.4581598 , 75.80985953,  1.        ],\n",
       "       [60.45555629, 42.50840944,  0.        ],\n",
       "       [82.22666158, 42.71987854,  0.        ],\n",
       "       [88.91389642, 69.8037889 ,  1.        ],\n",
       "       [94.83450672, 45.6943068 ,  1.        ],\n",
       "       [67.31925747, 66.58935318,  1.        ],\n",
       "       [57.23870632, 59.51428198,  1.        ],\n",
       "       [80.366756  , 90.9601479 ,  1.        ],\n",
       "       [68.46852179, 85.5943071 ,  1.        ],\n",
       "       [42.07545454, 78.844786  ,  0.        ],\n",
       "       [75.47770201, 90.424539  ,  1.        ],\n",
       "       [78.63542435, 96.64742717,  1.        ],\n",
       "       [52.34800399, 60.76950526,  0.        ],\n",
       "       [94.09433113, 77.15910509,  1.        ],\n",
       "       [90.44855097, 87.50879176,  1.        ],\n",
       "       [55.48216114, 35.57070347,  0.        ],\n",
       "       [74.49269242, 84.84513685,  1.        ],\n",
       "       [89.84580671, 45.35828361,  1.        ],\n",
       "       [83.48916274, 48.3802858 ,  1.        ],\n",
       "       [42.26170081, 87.10385094,  1.        ],\n",
       "       [99.31500881, 68.77540947,  1.        ],\n",
       "       [55.34001756, 64.93193801,  1.        ],\n",
       "       [74.775893  , 89.5298129 ,  1.        ]])"
      ]
     },
     "execution_count": 3,
     "metadata": {},
     "output_type": "execute_result"
    }
   ],
   "source": [
    "data"
   ]
  },
  {
   "cell_type": "code",
   "execution_count": 4,
   "metadata": {},
   "outputs": [],
   "source": [
    "# Load data into arrays\n",
    "X = dataset[['Exam1', 'Exam2']].values.reshape(-1,2)\n",
    "y = dataset[['Admitted']].values.reshape(-1,1)"
   ]
  },
  {
   "cell_type": "code",
   "execution_count": 5,
   "metadata": {},
   "outputs": [],
   "source": [
    "def plotData(X,y):\n",
    "    # X = feature values, locate all rows of all columns except the last\n",
    "    X = dataset.iloc[:, :-1]\n",
    "\n",
    "    # y = target values, last column of the data frame\n",
    "    y = dataset.iloc[:, -1]\n",
    "\n",
    "    # filter out the applicants that got admitted\n",
    "    admitted = dataset.loc[y == 1]\n",
    "\n",
    "    # filter out the applicants that din't get admission\n",
    "    not_admitted = dataset.loc[y == 0]\n",
    "\n",
    "    # plots\n",
    "    plt.scatter(admitted.iloc[:, 0], admitted.iloc[:, 1], s=10, label='Admitted')\n",
    "    plt.scatter(not_admitted.iloc[:, 0], not_admitted.iloc[:, 1], s=10, label='Not Admitted')\n",
    "    plt.legend()\n",
    "    plt.show()"
   ]
  },
  {
   "cell_type": "code",
   "execution_count": 6,
   "metadata": {},
   "outputs": [],
   "source": [
    "def plotDecisionBoundary(theta, X, y):\n",
    "    y = dataset.iloc[:, -1]\n",
    "    admitted = dataset.loc[y == 1]\n",
    "\n",
    "    # filter out the applicants that din't get admission\n",
    "    not_admitted = dataset.loc[y == 0]\n",
    "\n",
    "    # plots\n",
    "    plt.scatter(admitted.iloc[:, 0], admitted.iloc[:, 1], s=10, label='Admitted')\n",
    "    plt.scatter(not_admitted.iloc[:, 0], not_admitted.iloc[:, 1], s=10, label='Not Admitted')\n",
    "    \n",
    "    x_value= np.array([np.min(X[:,1]),np.max(X[:,1])])\n",
    "    y_value=-(theta[0] +theta[1]*x_value)/theta[2]\n",
    "    plt.plot(x_value,y_value, \"r\")\n",
    "    plt.xlabel(\"Exam 1 score\")\n",
    "    plt.ylabel(\"Exam 2 score\")\n",
    "    plt.legend(loc=0)\n",
    "    "
   ]
  },
  {
   "cell_type": "code",
   "execution_count": 7,
   "metadata": {},
   "outputs": [],
   "source": [
    "def sigmoid(z):\n",
    "    g = np.zeros(z.shape)\n",
    "    \n",
    "    g = 1.0 / (1 + np.exp(-z))\n",
    "    \n",
    "    return g"
   ]
  },
  {
   "cell_type": "code",
   "execution_count": 8,
   "metadata": {},
   "outputs": [],
   "source": [
    "def costFunction(theta,X,y):\n",
    "    m = len(y)\n",
    "    theta = np.array([theta])\n",
    "    #X = np.array(X)\n",
    "    #y = np.array(y)\n",
    "    \n",
    "    grad = np.zeros(theta.shape)\n",
    "    \n",
    "    \n",
    "    predictions = sigmoid(X.dot(theta.T))\n",
    "    \n",
    "    J = 1.0/m * np.sum(-y * np.log(predictions) - (1 - y) * np.log(1 - predictions))\n",
    "    \n",
    "    grad = 1.0/m * (predictions-y).T.dot(X)\n",
    "    \n",
    "    return J,grad"
   ]
  },
  {
   "cell_type": "code",
   "execution_count": 9,
   "metadata": {},
   "outputs": [],
   "source": [
    "def gradient(theta, X, y):\n",
    "    m = len(y)\n",
    "    theta = np.array([theta])\n",
    "    X = np.array(X)\n",
    "    y = np.array(y)\n",
    "    \n",
    "    \n",
    "    predictions = sigmoid(X.dot(theta.T))\n",
    "    \n",
    "    grad = 1.0/m * (predictions-y).T.dot(X)\n",
    "\n",
    "    return grad"
   ]
  },
  {
   "cell_type": "code",
   "execution_count": 10,
   "metadata": {},
   "outputs": [],
   "source": [
    "def predict(theta, X):\n",
    "    m = X.shape[0]\n",
    "    p = np.zeros(m)\n",
    "    for i in range(0, m):\n",
    "        if sigmoid(X[i,:].dot(theta)) >= 0.5:\n",
    "            p[i] = 1\n",
    "        else:\n",
    "            p[i] = 0\n",
    "    \n",
    "    return p"
   ]
  },
  {
   "cell_type": "code",
   "execution_count": 11,
   "metadata": {},
   "outputs": [
    {
     "data": {
      "image/png": "[encoded data removed]",
      "text/plain": [
       "<Figure size 432x288 with 1 Axes>"
      ]
     },
     "metadata": {
      "needs_background": "light"
     },
     "output_type": "display_data"
    }
   ],
   "source": [
    "plotData(X,y)"
   ]
  },
  {
   "cell_type": "code",
   "execution_count": 12,
   "metadata": {},
   "outputs": [],
   "source": [
    "m,n = X.shape"
   ]
  },
  {
   "cell_type": "code",
   "execution_count": 13,
   "metadata": {},
   "outputs": [],
   "source": [
    "X = np.concatenate((np.ones((m,1)), X), axis=1)"
   ]
  },
  {
   "cell_type": "code",
   "execution_count": 14,
   "metadata": {},
   "outputs": [],
   "source": [
    "initial_theta = np.zeros(n+1)"
   ]
  },
  {
   "cell_type": "code",
   "execution_count": 15,
   "metadata": {},
   "outputs": [],
   "source": [
    "cost,grad = costFunction(initial_theta,X,y)"
   ]
  },
  {
   "cell_type": "code",
   "execution_count": 16,
   "metadata": {},
   "outputs": [
    {
     "data": {
      "text/plain": [
       "0.6931471805599453"
      ]
     },
     "execution_count": 16,
     "metadata": {},
     "output_type": "execute_result"
    }
   ],
   "source": [
    "cost"
   ]
  },
  {
   "cell_type": "code",
   "execution_count": 17,
   "metadata": {},
   "outputs": [
    {
     "data": {
      "text/plain": [
       "array([[ -0.1       , -12.00921659, -11.26284221]])"
      ]
     },
     "execution_count": 17,
     "metadata": {},
     "output_type": "execute_result"
    }
   ],
   "source": [
    "grad"
   ]
  },
  {
   "cell_type": "code",
   "execution_count": 18,
   "metadata": {},
   "outputs": [],
   "source": [
    "test_theta = np.array([-24,0.2,0.2])"
   ]
  },
  {
   "cell_type": "code",
   "execution_count": 19,
   "metadata": {},
   "outputs": [],
   "source": [
    "cost,grad = costFunction(test_theta,X,y)"
   ]
  },
  {
   "cell_type": "code",
   "execution_count": 20,
   "metadata": {},
   "outputs": [
    {
     "data": {
      "text/plain": [
       "0.21833019382659796"
      ]
     },
     "execution_count": 20,
     "metadata": {},
     "output_type": "execute_result"
    }
   ],
   "source": [
    "cost"
   ]
  },
  {
   "cell_type": "code",
   "execution_count": 21,
   "metadata": {},
   "outputs": [
    {
     "data": {
      "text/plain": [
       "array([[0.04290299, 2.56623412, 2.64679737]])"
      ]
     },
     "execution_count": 21,
     "metadata": {},
     "output_type": "execute_result"
    }
   ],
   "source": [
    "grad"
   ]
  },
  {
   "cell_type": "code",
   "execution_count": 22,
   "metadata": {},
   "outputs": [],
   "source": [
    "# Optimize with fmin_tnc\n",
    "options= {'maxiter': 400}\n",
    "\n",
    "res = optimize.minimize(costFunction,\n",
    "                        initial_theta,\n",
    "                        (X, y),\n",
    "                        jac=True,\n",
    "                        method='TNC',\n",
    "                        options=options)\n",
    "# result = opt.fmin_tnc(func=costFunction, x0=initial_theta, fprime=gradient, args=(X, y))"
   ]
  },
  {
   "cell_type": "code",
   "execution_count": 24,
   "metadata": {},
   "outputs": [
    {
     "data": {
      "text/plain": [
       "array([-25.16131869,   0.20623159,   0.20147149])"
      ]
     },
     "execution_count": 24,
     "metadata": {},
     "output_type": "execute_result"
    }
   ],
   "source": [
    "res.x"
   ]
  },
  {
   "cell_type": "code",
   "execution_count": 25,
   "metadata": {},
   "outputs": [],
   "source": [
    "result = res.x"
   ]
  },
  {
   "cell_type": "code",
   "execution_count": 27,
   "metadata": {},
   "outputs": [
    {
     "data": {
      "text/plain": [
       "(0.2034977015894743, array([[9.07652441e-09, 9.36760996e-08, 4.82243362e-07]]))"
      ]
     },
     "execution_count": 27,
     "metadata": {},
     "output_type": "execute_result"
    }
   ],
   "source": [
    "# Cost using optimized theta\n",
    "costFunction(result, X, y)"
   ]
  },
  {
   "cell_type": "code",
   "execution_count": 36,
   "metadata": {},
   "outputs": [],
   "source": [
    "optim_theta = result"
   ]
  },
  {
   "cell_type": "code",
   "execution_count": 37,
   "metadata": {},
   "outputs": [
    {
     "data": {
      "image/png": "[encoded data removed]",
      "text/plain": [
       "<Figure size 432x288 with 1 Axes>"
      ]
     },
     "metadata": {
      "needs_background": "light"
     },
     "output_type": "display_data"
    }
   ],
   "source": [
    "# Plot the decision boundary with the optimal theta \n",
    "plotDecisionBoundary(result, X, y)"
   ]
  },
  {
   "cell_type": "code",
   "execution_count": 38,
   "metadata": {},
   "outputs": [],
   "source": [
    "prob = sigmoid(np.array([[1,45,85]]).dot(optim_theta))"
   ]
  },
  {
   "cell_type": "code",
   "execution_count": 39,
   "metadata": {},
   "outputs": [
    {
     "name": "stdout",
     "output_type": "stream",
     "text": [
      "For a student with scores 45 and 85, we predict an admission probability of: 0.7762906242704579\n"
     ]
    }
   ],
   "source": [
    "print('For a student with scores 45 and 85, we predict an admission probability of: ' + str(prob[0]))"
   ]
  },
  {
   "cell_type": "code",
   "execution_count": 40,
   "metadata": {},
   "outputs": [],
   "source": [
    "# Predict accuracy of learnt model on training set\n",
    "p = predict(optim_theta, X)"
   ]
  },
  {
   "cell_type": "code",
   "execution_count": 44,
   "metadata": {},
   "outputs": [
    {
     "name": "stdout",
     "output_type": "stream",
     "text": [
      "Accuracy: 89%\n"
     ]
    }
   ],
   "source": [
    "correct = [1 if ((a == 1 and b == 1) or (a == 0 and b == 0)) else 0 for (a, b) in zip(p, y)]\n",
    "accuracy = (sum(map(int, correct)) % len(correct))\n",
    "print(f'Accuracy: {accuracy}%')"
   ]
  }
 ],
 "metadata": {
  "kernelspec": {
   "display_name": "Python 3",
   "language": "python",
   "name": "python3"
  },
  "language_info": {
   "codemirror_mode": {
    "name": "ipython",
    "version": 3
   },
   "file_extension": ".py",
   "mimetype": "text/x-python",
   "name": "python",
   "nbconvert_exporter": "python",
   "pygments_lexer": "ipython3",
   "version": "3.7.3"
  }
 },
 "nbformat": 4,
 "nbformat_minor": 4
}
