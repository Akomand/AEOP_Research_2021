{
  "nbformat": 4,
  "nbformat_minor": 0,
  "metadata": {
    "colab": {
      "name": "BERT_Classification.ipynb",
      "provenance": [],
      "collapsed_sections": []
    },
    "kernelspec": {
      "name": "python3",
      "display_name": "Python 3"
    },
    "language_info": {
      "name": "python"
    },
    "widgets": {
      "application/vnd.jupyter.widget-state+json": {
        "837fad937678441da0e4d8489319298c": {
          "model_module": "@jupyter-widgets/controls",
          "model_name": "HBoxModel",
          "state": {
            "_view_name": "HBoxView",
            "_dom_classes": [],
            "_model_name": "HBoxModel",
            "_view_module": "@jupyter-widgets/controls",
            "_model_module_version": "1.5.0",
            "_view_count": null,
            "_view_module_version": "1.5.0",
            "box_style": "",
            "layout": "IPY_MODEL_43e4b1c09aca445a842c4ea5440f06f5",
            "_model_module": "@jupyter-widgets/controls",
            "children": [
              "IPY_MODEL_e4925bcee751431ab84d68e236cfb421",
              "IPY_MODEL_c82c776287f34c56848007beb11b0225"
            ]
          }
        },
        "43e4b1c09aca445a842c4ea5440f06f5": {
          "model_module": "@jupyter-widgets/base",
          "model_name": "LayoutModel",
          "state": {
            "_view_name": "LayoutView",
            "grid_template_rows": null,
            "right": null,
            "justify_content": null,
            "_view_module": "@jupyter-widgets/base",
            "overflow": null,
            "_model_module_version": "1.2.0",
            "_view_count": null,
            "flex_flow": null,
            "width": null,
            "min_width": null,
            "border": null,
            "align_items": null,
            "bottom": null,
            "_model_module": "@jupyter-widgets/base",
            "top": null,
            "grid_column": null,
            "overflow_y": null,
            "overflow_x": null,
            "grid_auto_flow": null,
            "grid_area": null,
            "grid_template_columns": null,
            "flex": null,
            "_model_name": "LayoutModel",
            "justify_items": null,
            "grid_row": null,
            "max_height": null,
            "align_content": null,
            "visibility": null,
            "align_self": null,
            "height": null,
            "min_height": null,
            "padding": null,
            "grid_auto_rows": null,
            "grid_gap": null,
            "max_width": null,
            "order": null,
            "_view_module_version": "1.2.0",
            "grid_template_areas": null,
            "object_position": null,
            "object_fit": null,
            "grid_auto_columns": null,
            "margin": null,
            "display": null,
            "left": null
          }
        },
        "e4925bcee751431ab84d68e236cfb421": {
          "model_module": "@jupyter-widgets/controls",
          "model_name": "FloatProgressModel",
          "state": {
            "_view_name": "ProgressView",
            "style": "IPY_MODEL_a4c2969d15e94b57b6b2d0aef471617a",
            "_dom_classes": [],
            "description": "Downloading: ",
            "_model_name": "FloatProgressModel",
            "bar_style": "success",
            "max": 1916,
            "_view_module": "@jupyter-widgets/controls",
            "_model_module_version": "1.5.0",
            "value": 1916,
            "_view_count": null,
            "_view_module_version": "1.5.0",
            "orientation": "horizontal",
            "min": 0,
            "description_tooltip": null,
            "_model_module": "@jupyter-widgets/controls",
            "layout": "IPY_MODEL_384de4b7b8a64498afbf830ae3d1d3b1"
          }
        },
        "c82c776287f34c56848007beb11b0225": {
          "model_module": "@jupyter-widgets/controls",
          "model_name": "HTMLModel",
          "state": {
            "_view_name": "HTMLView",
            "style": "IPY_MODEL_4a938c7fc4384902bf5f1c4ed1572867",
            "_dom_classes": [],
            "description": "",
            "_model_name": "HTMLModel",
            "placeholder": "​",
            "_view_module": "@jupyter-widgets/controls",
            "_model_module_version": "1.5.0",
            "value": " 4.75k/? [00:00&lt;00:00, 17.8kB/s]",
            "_view_count": null,
            "_view_module_version": "1.5.0",
            "description_tooltip": null,
            "_model_module": "@jupyter-widgets/controls",
            "layout": "IPY_MODEL_9a7f84c125824940a7f0c59934d887b8"
          }
        },
        "a4c2969d15e94b57b6b2d0aef471617a": {
          "model_module": "@jupyter-widgets/controls",
          "model_name": "ProgressStyleModel",
          "state": {
            "_view_name": "StyleView",
            "_model_name": "ProgressStyleModel",
            "description_width": "initial",
            "_view_module": "@jupyter-widgets/base",
            "_model_module_version": "1.5.0",
            "_view_count": null,
            "_view_module_version": "1.2.0",
            "bar_color": null,
            "_model_module": "@jupyter-widgets/controls"
          }
        },
        "384de4b7b8a64498afbf830ae3d1d3b1": {
          "model_module": "@jupyter-widgets/base",
          "model_name": "LayoutModel",
          "state": {
            "_view_name": "LayoutView",
            "grid_template_rows": null,
            "right": null,
            "justify_content": null,
            "_view_module": "@jupyter-widgets/base",
            "overflow": null,
            "_model_module_version": "1.2.0",
            "_view_count": null,
            "flex_flow": null,
            "width": null,
            "min_width": null,
            "border": null,
            "align_items": null,
            "bottom": null,
            "_model_module": "@jupyter-widgets/base",
            "top": null,
            "grid_column": null,
            "overflow_y": null,
            "overflow_x": null,
            "grid_auto_flow": null,
            "grid_area": null,
            "grid_template_columns": null,
            "flex": null,
            "_model_name": "LayoutModel",
            "justify_items": null,
            "grid_row": null,
            "max_height": null,
            "align_content": null,
            "visibility": null,
            "align_self": null,
            "height": null,
            "min_height": null,
            "padding": null,
            "grid_auto_rows": null,
            "grid_gap": null,
            "max_width": null,
            "order": null,
            "_view_module_version": "1.2.0",
            "grid_template_areas": null,
            "object_position": null,
            "object_fit": null,
            "grid_auto_columns": null,
            "margin": null,
            "display": null,
            "left": null
          }
        },
        "4a938c7fc4384902bf5f1c4ed1572867": {
          "model_module": "@jupyter-widgets/controls",
          "model_name": "DescriptionStyleModel",
          "state": {
            "_view_name": "StyleView",
            "_model_name": "DescriptionStyleModel",
            "description_width": "",
            "_view_module": "@jupyter-widgets/base",
            "_model_module_version": "1.5.0",
            "_view_count": null,
            "_view_module_version": "1.2.0",
            "_model_module": "@jupyter-widgets/controls"
          }
        },
        "9a7f84c125824940a7f0c59934d887b8": {
          "model_module": "@jupyter-widgets/base",
          "model_name": "LayoutModel",
          "state": {
            "_view_name": "LayoutView",
            "grid_template_rows": null,
            "right": null,
            "justify_content": null,
            "_view_module": "@jupyter-widgets/base",
            "overflow": null,
            "_model_module_version": "1.2.0",
            "_view_count": null,
            "flex_flow": null,
            "width": null,
            "min_width": null,
            "border": null,
            "align_items": null,
            "bottom": null,
            "_model_module": "@jupyter-widgets/base",
            "top": null,
            "grid_column": null,
            "overflow_y": null,
            "overflow_x": null,
            "grid_auto_flow": null,
            "grid_area": null,
            "grid_template_columns": null,
            "flex": null,
            "_model_name": "LayoutModel",
            "justify_items": null,
            "grid_row": null,
            "max_height": null,
            "align_content": null,
            "visibility": null,
            "align_self": null,
            "height": null,
            "min_height": null,
            "padding": null,
            "grid_auto_rows": null,
            "grid_gap": null,
            "max_width": null,
            "order": null,
            "_view_module_version": "1.2.0",
            "grid_template_areas": null,
            "object_position": null,
            "object_fit": null,
            "grid_auto_columns": null,
            "margin": null,
            "display": null,
            "left": null
          }
        },
        "12f9a51d735a43c8ba41f811843aedd3": {
          "model_module": "@jupyter-widgets/controls",
          "model_name": "HBoxModel",
          "state": {
            "_view_name": "HBoxView",
            "_dom_classes": [],
            "_model_name": "HBoxModel",
            "_view_module": "@jupyter-widgets/controls",
            "_model_module_version": "1.5.0",
            "_view_count": null,
            "_view_module_version": "1.5.0",
            "box_style": "",
            "layout": "IPY_MODEL_8cc4084c77ad462ab677a254f65663db",
            "_model_module": "@jupyter-widgets/controls",
            "children": [
              "IPY_MODEL_026684c93bef442cbe317bab516a859d",
              "IPY_MODEL_bd5ede79e5d74f95b2e5910b33e23e26"
            ]
          }
        },
        "8cc4084c77ad462ab677a254f65663db": {
          "model_module": "@jupyter-widgets/base",
          "model_name": "LayoutModel",
          "state": {
            "_view_name": "LayoutView",
            "grid_template_rows": null,
            "right": null,
            "justify_content": null,
            "_view_module": "@jupyter-widgets/base",
            "overflow": null,
            "_model_module_version": "1.2.0",
            "_view_count": null,
            "flex_flow": null,
            "width": null,
            "min_width": null,
            "border": null,
            "align_items": null,
            "bottom": null,
            "_model_module": "@jupyter-widgets/base",
            "top": null,
            "grid_column": null,
            "overflow_y": null,
            "overflow_x": null,
            "grid_auto_flow": null,
            "grid_area": null,
            "grid_template_columns": null,
            "flex": null,
            "_model_name": "LayoutModel",
            "justify_items": null,
            "grid_row": null,
            "max_height": null,
            "align_content": null,
            "visibility": null,
            "align_self": null,
            "height": null,
            "min_height": null,
            "padding": null,
            "grid_auto_rows": null,
            "grid_gap": null,
            "max_width": null,
            "order": null,
            "_view_module_version": "1.2.0",
            "grid_template_areas": null,
            "object_position": null,
            "object_fit": null,
            "grid_auto_columns": null,
            "margin": null,
            "display": null,
            "left": null
          }
        },
        "026684c93bef442cbe317bab516a859d": {
          "model_module": "@jupyter-widgets/controls",
          "model_name": "FloatProgressModel",
          "state": {
            "_view_name": "ProgressView",
            "style": "IPY_MODEL_e0dafcf46b804803ad36241a1ec89605",
            "_dom_classes": [],
            "description": "Downloading: ",
            "_model_name": "FloatProgressModel",
            "bar_style": "success",
            "max": 1054,
            "_view_module": "@jupyter-widgets/controls",
            "_model_module_version": "1.5.0",
            "value": 1054,
            "_view_count": null,
            "_view_module_version": "1.5.0",
            "orientation": "horizontal",
            "min": 0,
            "description_tooltip": null,
            "_model_module": "@jupyter-widgets/controls",
            "layout": "IPY_MODEL_a62daa4de377470db5b2571e1d2cfe53"
          }
        },
        "bd5ede79e5d74f95b2e5910b33e23e26": {
          "model_module": "@jupyter-widgets/controls",
          "model_name": "HTMLModel",
          "state": {
            "_view_name": "HTMLView",
            "style": "IPY_MODEL_51a58c7dd9a64be18b34149caa7bd0ee",
            "_dom_classes": [],
            "description": "",
            "_model_name": "HTMLModel",
            "placeholder": "​",
            "_view_module": "@jupyter-widgets/controls",
            "_model_module_version": "1.5.0",
            "value": " 2.17k/? [00:00&lt;00:00, 2.37kB/s]",
            "_view_count": null,
            "_view_module_version": "1.5.0",
            "description_tooltip": null,
            "_model_module": "@jupyter-widgets/controls",
            "layout": "IPY_MODEL_4c5a88629b55426ab8151cf4c6cb48ab"
          }
        },
        "e0dafcf46b804803ad36241a1ec89605": {
          "model_module": "@jupyter-widgets/controls",
          "model_name": "ProgressStyleModel",
          "state": {
            "_view_name": "StyleView",
            "_model_name": "ProgressStyleModel",
            "description_width": "initial",
            "_view_module": "@jupyter-widgets/base",
            "_model_module_version": "1.5.0",
            "_view_count": null,
            "_view_module_version": "1.2.0",
            "bar_color": null,
            "_model_module": "@jupyter-widgets/controls"
          }
        },
        "a62daa4de377470db5b2571e1d2cfe53": {
          "model_module": "@jupyter-widgets/base",
          "model_name": "LayoutModel",
          "state": {
            "_view_name": "LayoutView",
            "grid_template_rows": null,
            "right": null,
            "justify_content": null,
            "_view_module": "@jupyter-widgets/base",
            "overflow": null,
            "_model_module_version": "1.2.0",
            "_view_count": null,
            "flex_flow": null,
            "width": null,
            "min_width": null,
            "border": null,
            "align_items": null,
            "bottom": null,
            "_model_module": "@jupyter-widgets/base",
            "top": null,
            "grid_column": null,
            "overflow_y": null,
            "overflow_x": null,
            "grid_auto_flow": null,
            "grid_area": null,
            "grid_template_columns": null,
            "flex": null,
            "_model_name": "LayoutModel",
            "justify_items": null,
            "grid_row": null,
            "max_height": null,
            "align_content": null,
            "visibility": null,
            "align_self": null,
            "height": null,
            "min_height": null,
            "padding": null,
            "grid_auto_rows": null,
            "grid_gap": null,
            "max_width": null,
            "order": null,
            "_view_module_version": "1.2.0",
            "grid_template_areas": null,
            "object_position": null,
            "object_fit": null,
            "grid_auto_columns": null,
            "margin": null,
            "display": null,
            "left": null
          }
        },
        "51a58c7dd9a64be18b34149caa7bd0ee": {
          "model_module": "@jupyter-widgets/controls",
          "model_name": "DescriptionStyleModel",
          "state": {
            "_view_name": "StyleView",
            "_model_name": "DescriptionStyleModel",
            "description_width": "",
            "_view_module": "@jupyter-widgets/base",
            "_model_module_version": "1.5.0",
            "_view_count": null,
            "_view_module_version": "1.2.0",
            "_model_module": "@jupyter-widgets/controls"
          }
        },
        "4c5a88629b55426ab8151cf4c6cb48ab": {
          "model_module": "@jupyter-widgets/base",
          "model_name": "LayoutModel",
          "state": {
            "_view_name": "LayoutView",
            "grid_template_rows": null,
            "right": null,
            "justify_content": null,
            "_view_module": "@jupyter-widgets/base",
            "overflow": null,
            "_model_module_version": "1.2.0",
            "_view_count": null,
            "flex_flow": null,
            "width": null,
            "min_width": null,
            "border": null,
            "align_items": null,
            "bottom": null,
            "_model_module": "@jupyter-widgets/base",
            "top": null,
            "grid_column": null,
            "overflow_y": null,
            "overflow_x": null,
            "grid_auto_flow": null,
            "grid_area": null,
            "grid_template_columns": null,
            "flex": null,
            "_model_name": "LayoutModel",
            "justify_items": null,
            "grid_row": null,
            "max_height": null,
            "align_content": null,
            "visibility": null,
            "align_self": null,
            "height": null,
            "min_height": null,
            "padding": null,
            "grid_auto_rows": null,
            "grid_gap": null,
            "max_width": null,
            "order": null,
            "_view_module_version": "1.2.0",
            "grid_template_areas": null,
            "object_position": null,
            "object_fit": null,
            "grid_auto_columns": null,
            "margin": null,
            "display": null,
            "left": null
          }
        },
        "b28e29ca7aee49d79ffdf749a6182d54": {
          "model_module": "@jupyter-widgets/controls",
          "model_name": "HBoxModel",
          "state": {
            "_view_name": "HBoxView",
            "_dom_classes": [],
            "_model_name": "HBoxModel",
            "_view_module": "@jupyter-widgets/controls",
            "_model_module_version": "1.5.0",
            "_view_count": null,
            "_view_module_version": "1.5.0",
            "box_style": "",
            "layout": "IPY_MODEL_67dffc0256be459e90f82262b8a3ced1",
            "_model_module": "@jupyter-widgets/controls",
            "children": [
              "IPY_MODEL_3e4f763511044ebb960b1bc973b5abb0",
              "IPY_MODEL_9c2c4c00c23d4ca3a1e809bf51719475"
            ]
          }
        },
        "67dffc0256be459e90f82262b8a3ced1": {
          "model_module": "@jupyter-widgets/base",
          "model_name": "LayoutModel",
          "state": {
            "_view_name": "LayoutView",
            "grid_template_rows": null,
            "right": null,
            "justify_content": null,
            "_view_module": "@jupyter-widgets/base",
            "overflow": null,
            "_model_module_version": "1.2.0",
            "_view_count": null,
            "flex_flow": null,
            "width": null,
            "min_width": null,
            "border": null,
            "align_items": null,
            "bottom": null,
            "_model_module": "@jupyter-widgets/base",
            "top": null,
            "grid_column": null,
            "overflow_y": null,
            "overflow_x": null,
            "grid_auto_flow": null,
            "grid_area": null,
            "grid_template_columns": null,
            "flex": null,
            "_model_name": "LayoutModel",
            "justify_items": null,
            "grid_row": null,
            "max_height": null,
            "align_content": null,
            "visibility": null,
            "align_self": null,
            "height": null,
            "min_height": null,
            "padding": null,
            "grid_auto_rows": null,
            "grid_gap": null,
            "max_width": null,
            "order": null,
            "_view_module_version": "1.2.0",
            "grid_template_areas": null,
            "object_position": null,
            "object_fit": null,
            "grid_auto_columns": null,
            "margin": null,
            "display": null,
            "left": null
          }
        },
        "3e4f763511044ebb960b1bc973b5abb0": {
          "model_module": "@jupyter-widgets/controls",
          "model_name": "FloatProgressModel",
          "state": {
            "_view_name": "ProgressView",
            "style": "IPY_MODEL_82e50890b87e4c62b6146866b0fdbec8",
            "_dom_classes": [],
            "description": "Downloading: 100%",
            "_model_name": "FloatProgressModel",
            "bar_style": "success",
            "max": 84125825,
            "_view_module": "@jupyter-widgets/controls",
            "_model_module_version": "1.5.0",
            "value": 84125825,
            "_view_count": null,
            "_view_module_version": "1.5.0",
            "orientation": "horizontal",
            "min": 0,
            "description_tooltip": null,
            "_model_module": "@jupyter-widgets/controls",
            "layout": "IPY_MODEL_12cae665b8054211aa4b073343f5385a"
          }
        },
        "9c2c4c00c23d4ca3a1e809bf51719475": {
          "model_module": "@jupyter-widgets/controls",
          "model_name": "HTMLModel",
          "state": {
            "_view_name": "HTMLView",
            "style": "IPY_MODEL_3a273261c9ec4eea86bc8655c9f06feb",
            "_dom_classes": [],
            "description": "",
            "_model_name": "HTMLModel",
            "placeholder": "​",
            "_view_module": "@jupyter-widgets/controls",
            "_model_module_version": "1.5.0",
            "value": " 84.1M/84.1M [00:08&lt;00:00, 9.96MB/s]",
            "_view_count": null,
            "_view_module_version": "1.5.0",
            "description_tooltip": null,
            "_model_module": "@jupyter-widgets/controls",
            "layout": "IPY_MODEL_67e639e216e34e7b963417a9f1c4c0bf"
          }
        },
        "82e50890b87e4c62b6146866b0fdbec8": {
          "model_module": "@jupyter-widgets/controls",
          "model_name": "ProgressStyleModel",
          "state": {
            "_view_name": "StyleView",
            "_model_name": "ProgressStyleModel",
            "description_width": "initial",
            "_view_module": "@jupyter-widgets/base",
            "_model_module_version": "1.5.0",
            "_view_count": null,
            "_view_module_version": "1.2.0",
            "bar_color": null,
            "_model_module": "@jupyter-widgets/controls"
          }
        },
        "12cae665b8054211aa4b073343f5385a": {
          "model_module": "@jupyter-widgets/base",
          "model_name": "LayoutModel",
          "state": {
            "_view_name": "LayoutView",
            "grid_template_rows": null,
            "right": null,
            "justify_content": null,
            "_view_module": "@jupyter-widgets/base",
            "overflow": null,
            "_model_module_version": "1.2.0",
            "_view_count": null,
            "flex_flow": null,
            "width": null,
            "min_width": null,
            "border": null,
            "align_items": null,
            "bottom": null,
            "_model_module": "@jupyter-widgets/base",
            "top": null,
            "grid_column": null,
            "overflow_y": null,
            "overflow_x": null,
            "grid_auto_flow": null,
            "grid_area": null,
            "grid_template_columns": null,
            "flex": null,
            "_model_name": "LayoutModel",
            "justify_items": null,
            "grid_row": null,
            "max_height": null,
            "align_content": null,
            "visibility": null,
            "align_self": null,
            "height": null,
            "min_height": null,
            "padding": null,
            "grid_auto_rows": null,
            "grid_gap": null,
            "max_width": null,
            "order": null,
            "_view_module_version": "1.2.0",
            "grid_template_areas": null,
            "object_position": null,
            "object_fit": null,
            "grid_auto_columns": null,
            "margin": null,
            "display": null,
            "left": null
          }
        },
        "3a273261c9ec4eea86bc8655c9f06feb": {
          "model_module": "@jupyter-widgets/controls",
          "model_name": "DescriptionStyleModel",
          "state": {
            "_view_name": "StyleView",
            "_model_name": "DescriptionStyleModel",
            "description_width": "",
            "_view_module": "@jupyter-widgets/base",
            "_model_module_version": "1.5.0",
            "_view_count": null,
            "_view_module_version": "1.2.0",
            "_model_module": "@jupyter-widgets/controls"
          }
        },
        "67e639e216e34e7b963417a9f1c4c0bf": {
          "model_module": "@jupyter-widgets/base",
          "model_name": "LayoutModel",
          "state": {
            "_view_name": "LayoutView",
            "grid_template_rows": null,
            "right": null,
            "justify_content": null,
            "_view_module": "@jupyter-widgets/base",
            "overflow": null,
            "_model_module_version": "1.2.0",
            "_view_count": null,
            "flex_flow": null,
            "width": null,
            "min_width": null,
            "border": null,
            "align_items": null,
            "bottom": null,
            "_model_module": "@jupyter-widgets/base",
            "top": null,
            "grid_column": null,
            "overflow_y": null,
            "overflow_x": null,
            "grid_auto_flow": null,
            "grid_area": null,
            "grid_template_columns": null,
            "flex": null,
            "_model_name": "LayoutModel",
            "justify_items": null,
            "grid_row": null,
            "max_height": null,
            "align_content": null,
            "visibility": null,
            "align_self": null,
            "height": null,
            "min_height": null,
            "padding": null,
            "grid_auto_rows": null,
            "grid_gap": null,
            "max_width": null,
            "order": null,
            "_view_module_version": "1.2.0",
            "grid_template_areas": null,
            "object_position": null,
            "object_fit": null,
            "grid_auto_columns": null,
            "margin": null,
            "display": null,
            "left": null
          }
        },
        "3cd0f31574c54ff4885968378f7b147b": {
          "model_module": "@jupyter-widgets/controls",
          "model_name": "HBoxModel",
          "state": {
            "_view_name": "HBoxView",
            "_dom_classes": [],
            "_model_name": "HBoxModel",
            "_view_module": "@jupyter-widgets/controls",
            "_model_module_version": "1.5.0",
            "_view_count": null,
            "_view_module_version": "1.5.0",
            "box_style": "",
            "layout": "IPY_MODEL_75d7e441c7424f6dad45a4eb54282bc2",
            "_model_module": "@jupyter-widgets/controls",
            "children": [
              "IPY_MODEL_9e663a4a83464001b5cdd1fb0fcd6b07",
              "IPY_MODEL_7c6cff16c8cd4510b7d53fded3c447d3"
            ]
          }
        },
        "75d7e441c7424f6dad45a4eb54282bc2": {
          "model_module": "@jupyter-widgets/base",
          "model_name": "LayoutModel",
          "state": {
            "_view_name": "LayoutView",
            "grid_template_rows": null,
            "right": null,
            "justify_content": null,
            "_view_module": "@jupyter-widgets/base",
            "overflow": null,
            "_model_module_version": "1.2.0",
            "_view_count": null,
            "flex_flow": null,
            "width": null,
            "min_width": null,
            "border": null,
            "align_items": null,
            "bottom": null,
            "_model_module": "@jupyter-widgets/base",
            "top": null,
            "grid_column": null,
            "overflow_y": null,
            "overflow_x": null,
            "grid_auto_flow": null,
            "grid_area": null,
            "grid_template_columns": null,
            "flex": null,
            "_model_name": "LayoutModel",
            "justify_items": null,
            "grid_row": null,
            "max_height": null,
            "align_content": null,
            "visibility": null,
            "align_self": null,
            "height": null,
            "min_height": null,
            "padding": null,
            "grid_auto_rows": null,
            "grid_gap": null,
            "max_width": null,
            "order": null,
            "_view_module_version": "1.2.0",
            "grid_template_areas": null,
            "object_position": null,
            "object_fit": null,
            "grid_auto_columns": null,
            "margin": null,
            "display": null,
            "left": null
          }
        },
        "9e663a4a83464001b5cdd1fb0fcd6b07": {
          "model_module": "@jupyter-widgets/controls",
          "model_name": "FloatProgressModel",
          "state": {
            "_view_name": "ProgressView",
            "style": "IPY_MODEL_eeab04d623b44130b72cc5b183246a8b",
            "_dom_classes": [],
            "description": "",
            "_model_name": "FloatProgressModel",
            "bar_style": "info",
            "max": 1,
            "_view_module": "@jupyter-widgets/controls",
            "_model_module_version": "1.5.0",
            "value": 1,
            "_view_count": null,
            "_view_module_version": "1.5.0",
            "orientation": "horizontal",
            "min": 0,
            "description_tooltip": null,
            "_model_module": "@jupyter-widgets/controls",
            "layout": "IPY_MODEL_3677889823da428f94d7089d6dd0404a"
          }
        },
        "7c6cff16c8cd4510b7d53fded3c447d3": {
          "model_module": "@jupyter-widgets/controls",
          "model_name": "HTMLModel",
          "state": {
            "_view_name": "HTMLView",
            "style": "IPY_MODEL_b33e20e80011452d8dca12c2f9c355ec",
            "_dom_classes": [],
            "description": "",
            "_model_name": "HTMLModel",
            "placeholder": "​",
            "_view_module": "@jupyter-widgets/controls",
            "_model_module_version": "1.5.0",
            "value": " 25000/0 [00:04&lt;00:00, 884.60 examples/s]",
            "_view_count": null,
            "_view_module_version": "1.5.0",
            "description_tooltip": null,
            "_model_module": "@jupyter-widgets/controls",
            "layout": "IPY_MODEL_823fd1339e7c4f40baae9bb59df23a97"
          }
        },
        "eeab04d623b44130b72cc5b183246a8b": {
          "model_module": "@jupyter-widgets/controls",
          "model_name": "ProgressStyleModel",
          "state": {
            "_view_name": "StyleView",
            "_model_name": "ProgressStyleModel",
            "description_width": "initial",
            "_view_module": "@jupyter-widgets/base",
            "_model_module_version": "1.5.0",
            "_view_count": null,
            "_view_module_version": "1.2.0",
            "bar_color": null,
            "_model_module": "@jupyter-widgets/controls"
          }
        },
        "3677889823da428f94d7089d6dd0404a": {
          "model_module": "@jupyter-widgets/base",
          "model_name": "LayoutModel",
          "state": {
            "_view_name": "LayoutView",
            "grid_template_rows": null,
            "right": null,
            "justify_content": null,
            "_view_module": "@jupyter-widgets/base",
            "overflow": null,
            "_model_module_version": "1.2.0",
            "_view_count": null,
            "flex_flow": null,
            "width": null,
            "min_width": null,
            "border": null,
            "align_items": null,
            "bottom": null,
            "_model_module": "@jupyter-widgets/base",
            "top": null,
            "grid_column": null,
            "overflow_y": null,
            "overflow_x": null,
            "grid_auto_flow": null,
            "grid_area": null,
            "grid_template_columns": null,
            "flex": null,
            "_model_name": "LayoutModel",
            "justify_items": null,
            "grid_row": null,
            "max_height": null,
            "align_content": null,
            "visibility": null,
            "align_self": null,
            "height": null,
            "min_height": null,
            "padding": null,
            "grid_auto_rows": null,
            "grid_gap": null,
            "max_width": null,
            "order": null,
            "_view_module_version": "1.2.0",
            "grid_template_areas": null,
            "object_position": null,
            "object_fit": null,
            "grid_auto_columns": null,
            "margin": null,
            "display": null,
            "left": null
          }
        },
        "b33e20e80011452d8dca12c2f9c355ec": {
          "model_module": "@jupyter-widgets/controls",
          "model_name": "DescriptionStyleModel",
          "state": {
            "_view_name": "StyleView",
            "_model_name": "DescriptionStyleModel",
            "description_width": "",
            "_view_module": "@jupyter-widgets/base",
            "_model_module_version": "1.5.0",
            "_view_count": null,
            "_view_module_version": "1.2.0",
            "_model_module": "@jupyter-widgets/controls"
          }
        },
        "823fd1339e7c4f40baae9bb59df23a97": {
          "model_module": "@jupyter-widgets/base",
          "model_name": "LayoutModel",
          "state": {
            "_view_name": "LayoutView",
            "grid_template_rows": null,
            "right": null,
            "justify_content": null,
            "_view_module": "@jupyter-widgets/base",
            "overflow": null,
            "_model_module_version": "1.2.0",
            "_view_count": null,
            "flex_flow": null,
            "width": null,
            "min_width": null,
            "border": null,
            "align_items": null,
            "bottom": null,
            "_model_module": "@jupyter-widgets/base",
            "top": null,
            "grid_column": null,
            "overflow_y": null,
            "overflow_x": null,
            "grid_auto_flow": null,
            "grid_area": null,
            "grid_template_columns": null,
            "flex": null,
            "_model_name": "LayoutModel",
            "justify_items": null,
            "grid_row": null,
            "max_height": null,
            "align_content": null,
            "visibility": null,
            "align_self": null,
            "height": null,
            "min_height": null,
            "padding": null,
            "grid_auto_rows": null,
            "grid_gap": null,
            "max_width": null,
            "order": null,
            "_view_module_version": "1.2.0",
            "grid_template_areas": null,
            "object_position": null,
            "object_fit": null,
            "grid_auto_columns": null,
            "margin": null,
            "display": null,
            "left": null
          }
        },
        "8bb503834aab4ab5b7984196165c2b78": {
          "model_module": "@jupyter-widgets/controls",
          "model_name": "HBoxModel",
          "state": {
            "_view_name": "HBoxView",
            "_dom_classes": [],
            "_model_name": "HBoxModel",
            "_view_module": "@jupyter-widgets/controls",
            "_model_module_version": "1.5.0",
            "_view_count": null,
            "_view_module_version": "1.5.0",
            "box_style": "",
            "layout": "IPY_MODEL_fd9dc7d80d4749c890cb62b3a7eb0c9b",
            "_model_module": "@jupyter-widgets/controls",
            "children": [
              "IPY_MODEL_40ce024db14b40aaa5f9dab147e3c6bb",
              "IPY_MODEL_ee043ec734f14fe3aa6868528003e78c"
            ]
          }
        },
        "fd9dc7d80d4749c890cb62b3a7eb0c9b": {
          "model_module": "@jupyter-widgets/base",
          "model_name": "LayoutModel",
          "state": {
            "_view_name": "LayoutView",
            "grid_template_rows": null,
            "right": null,
            "justify_content": null,
            "_view_module": "@jupyter-widgets/base",
            "overflow": null,
            "_model_module_version": "1.2.0",
            "_view_count": null,
            "flex_flow": null,
            "width": null,
            "min_width": null,
            "border": null,
            "align_items": null,
            "bottom": null,
            "_model_module": "@jupyter-widgets/base",
            "top": null,
            "grid_column": null,
            "overflow_y": null,
            "overflow_x": null,
            "grid_auto_flow": null,
            "grid_area": null,
            "grid_template_columns": null,
            "flex": null,
            "_model_name": "LayoutModel",
            "justify_items": null,
            "grid_row": null,
            "max_height": null,
            "align_content": null,
            "visibility": null,
            "align_self": null,
            "height": null,
            "min_height": null,
            "padding": null,
            "grid_auto_rows": null,
            "grid_gap": null,
            "max_width": null,
            "order": null,
            "_view_module_version": "1.2.0",
            "grid_template_areas": null,
            "object_position": null,
            "object_fit": null,
            "grid_auto_columns": null,
            "margin": null,
            "display": null,
            "left": null
          }
        },
        "40ce024db14b40aaa5f9dab147e3c6bb": {
          "model_module": "@jupyter-widgets/controls",
          "model_name": "FloatProgressModel",
          "state": {
            "_view_name": "ProgressView",
            "style": "IPY_MODEL_91d81c1bc843478ab46126a9a0f1ac87",
            "_dom_classes": [],
            "description": "",
            "_model_name": "FloatProgressModel",
            "bar_style": "info",
            "max": 1,
            "_view_module": "@jupyter-widgets/controls",
            "_model_module_version": "1.5.0",
            "value": 1,
            "_view_count": null,
            "_view_module_version": "1.5.0",
            "orientation": "horizontal",
            "min": 0,
            "description_tooltip": null,
            "_model_module": "@jupyter-widgets/controls",
            "layout": "IPY_MODEL_593b60f2793847918b895ee857f2ac10"
          }
        },
        "ee043ec734f14fe3aa6868528003e78c": {
          "model_module": "@jupyter-widgets/controls",
          "model_name": "HTMLModel",
          "state": {
            "_view_name": "HTMLView",
            "style": "IPY_MODEL_21fe6691de3c45b6abdbefc8b15f3d93",
            "_dom_classes": [],
            "description": "",
            "_model_name": "HTMLModel",
            "placeholder": "​",
            "_view_module": "@jupyter-widgets/controls",
            "_model_module_version": "1.5.0",
            "value": " 25000/0 [00:02&lt;00:00, 10409.89 examples/s]",
            "_view_count": null,
            "_view_module_version": "1.5.0",
            "description_tooltip": null,
            "_model_module": "@jupyter-widgets/controls",
            "layout": "IPY_MODEL_9eb2b8edb44c432d985d25855189412c"
          }
        },
        "91d81c1bc843478ab46126a9a0f1ac87": {
          "model_module": "@jupyter-widgets/controls",
          "model_name": "ProgressStyleModel",
          "state": {
            "_view_name": "StyleView",
            "_model_name": "ProgressStyleModel",
            "description_width": "initial",
            "_view_module": "@jupyter-widgets/base",
            "_model_module_version": "1.5.0",
            "_view_count": null,
            "_view_module_version": "1.2.0",
            "bar_color": null,
            "_model_module": "@jupyter-widgets/controls"
          }
        },
        "593b60f2793847918b895ee857f2ac10": {
          "model_module": "@jupyter-widgets/base",
          "model_name": "LayoutModel",
          "state": {
            "_view_name": "LayoutView",
            "grid_template_rows": null,
            "right": null,
            "justify_content": null,
            "_view_module": "@jupyter-widgets/base",
            "overflow": null,
            "_model_module_version": "1.2.0",
            "_view_count": null,
            "flex_flow": null,
            "width": null,
            "min_width": null,
            "border": null,
            "align_items": null,
            "bottom": null,
            "_model_module": "@jupyter-widgets/base",
            "top": null,
            "grid_column": null,
            "overflow_y": null,
            "overflow_x": null,
            "grid_auto_flow": null,
            "grid_area": null,
            "grid_template_columns": null,
            "flex": null,
            "_model_name": "LayoutModel",
            "justify_items": null,
            "grid_row": null,
            "max_height": null,
            "align_content": null,
            "visibility": null,
            "align_self": null,
            "height": null,
            "min_height": null,
            "padding": null,
            "grid_auto_rows": null,
            "grid_gap": null,
            "max_width": null,
            "order": null,
            "_view_module_version": "1.2.0",
            "grid_template_areas": null,
            "object_position": null,
            "object_fit": null,
            "grid_auto_columns": null,
            "margin": null,
            "display": null,
            "left": null
          }
        },
        "21fe6691de3c45b6abdbefc8b15f3d93": {
          "model_module": "@jupyter-widgets/controls",
          "model_name": "DescriptionStyleModel",
          "state": {
            "_view_name": "StyleView",
            "_model_name": "DescriptionStyleModel",
            "description_width": "",
            "_view_module": "@jupyter-widgets/base",
            "_model_module_version": "1.5.0",
            "_view_count": null,
            "_view_module_version": "1.2.0",
            "_model_module": "@jupyter-widgets/controls"
          }
        },
        "9eb2b8edb44c432d985d25855189412c": {
          "model_module": "@jupyter-widgets/base",
          "model_name": "LayoutModel",
          "state": {
            "_view_name": "LayoutView",
            "grid_template_rows": null,
            "right": null,
            "justify_content": null,
            "_view_module": "@jupyter-widgets/base",
            "overflow": null,
            "_model_module_version": "1.2.0",
            "_view_count": null,
            "flex_flow": null,
            "width": null,
            "min_width": null,
            "border": null,
            "align_items": null,
            "bottom": null,
            "_model_module": "@jupyter-widgets/base",
            "top": null,
            "grid_column": null,
            "overflow_y": null,
            "overflow_x": null,
            "grid_auto_flow": null,
            "grid_area": null,
            "grid_template_columns": null,
            "flex": null,
            "_model_name": "LayoutModel",
            "justify_items": null,
            "grid_row": null,
            "max_height": null,
            "align_content": null,
            "visibility": null,
            "align_self": null,
            "height": null,
            "min_height": null,
            "padding": null,
            "grid_auto_rows": null,
            "grid_gap": null,
            "max_width": null,
            "order": null,
            "_view_module_version": "1.2.0",
            "grid_template_areas": null,
            "object_position": null,
            "object_fit": null,
            "grid_auto_columns": null,
            "margin": null,
            "display": null,
            "left": null
          }
        },
        "dcb05fa899034b469c2d50b7c36160a3": {
          "model_module": "@jupyter-widgets/controls",
          "model_name": "HBoxModel",
          "state": {
            "_view_name": "HBoxView",
            "_dom_classes": [],
            "_model_name": "HBoxModel",
            "_view_module": "@jupyter-widgets/controls",
            "_model_module_version": "1.5.0",
            "_view_count": null,
            "_view_module_version": "1.5.0",
            "box_style": "",
            "layout": "IPY_MODEL_c807d3456e1045fd918760449ab2d1dd",
            "_model_module": "@jupyter-widgets/controls",
            "children": [
              "IPY_MODEL_ff6f864866b14bef9384c7399d205673",
              "IPY_MODEL_4565eefa7e9740b4bf1108d63da64998"
            ]
          }
        },
        "c807d3456e1045fd918760449ab2d1dd": {
          "model_module": "@jupyter-widgets/base",
          "model_name": "LayoutModel",
          "state": {
            "_view_name": "LayoutView",
            "grid_template_rows": null,
            "right": null,
            "justify_content": null,
            "_view_module": "@jupyter-widgets/base",
            "overflow": null,
            "_model_module_version": "1.2.0",
            "_view_count": null,
            "flex_flow": null,
            "width": null,
            "min_width": null,
            "border": null,
            "align_items": null,
            "bottom": null,
            "_model_module": "@jupyter-widgets/base",
            "top": null,
            "grid_column": null,
            "overflow_y": null,
            "overflow_x": null,
            "grid_auto_flow": null,
            "grid_area": null,
            "grid_template_columns": null,
            "flex": null,
            "_model_name": "LayoutModel",
            "justify_items": null,
            "grid_row": null,
            "max_height": null,
            "align_content": null,
            "visibility": null,
            "align_self": null,
            "height": null,
            "min_height": null,
            "padding": null,
            "grid_auto_rows": null,
            "grid_gap": null,
            "max_width": null,
            "order": null,
            "_view_module_version": "1.2.0",
            "grid_template_areas": null,
            "object_position": null,
            "object_fit": null,
            "grid_auto_columns": null,
            "margin": null,
            "display": null,
            "left": null
          }
        },
        "ff6f864866b14bef9384c7399d205673": {
          "model_module": "@jupyter-widgets/controls",
          "model_name": "FloatProgressModel",
          "state": {
            "_view_name": "ProgressView",
            "style": "IPY_MODEL_2dace73fd114460fb487eaa5494b794a",
            "_dom_classes": [],
            "description": "",
            "_model_name": "FloatProgressModel",
            "bar_style": "info",
            "max": 1,
            "_view_module": "@jupyter-widgets/controls",
            "_model_module_version": "1.5.0",
            "value": 1,
            "_view_count": null,
            "_view_module_version": "1.5.0",
            "orientation": "horizontal",
            "min": 0,
            "description_tooltip": null,
            "_model_module": "@jupyter-widgets/controls",
            "layout": "IPY_MODEL_791e9e0332734cd683b5ba8b606e72ed"
          }
        },
        "4565eefa7e9740b4bf1108d63da64998": {
          "model_module": "@jupyter-widgets/controls",
          "model_name": "HTMLModel",
          "state": {
            "_view_name": "HTMLView",
            "style": "IPY_MODEL_d700ea77612e41efb20d3b523fb465f2",
            "_dom_classes": [],
            "description": "",
            "_model_name": "HTMLModel",
            "placeholder": "​",
            "_view_module": "@jupyter-widgets/controls",
            "_model_module_version": "1.5.0",
            "value": " 50000/0 [00:04&lt;00:00, 11724.69 examples/s]",
            "_view_count": null,
            "_view_module_version": "1.5.0",
            "description_tooltip": null,
            "_model_module": "@jupyter-widgets/controls",
            "layout": "IPY_MODEL_b63e6275b32345c98b141e81e777d364"
          }
        },
        "2dace73fd114460fb487eaa5494b794a": {
          "model_module": "@jupyter-widgets/controls",
          "model_name": "ProgressStyleModel",
          "state": {
            "_view_name": "StyleView",
            "_model_name": "ProgressStyleModel",
            "description_width": "initial",
            "_view_module": "@jupyter-widgets/base",
            "_model_module_version": "1.5.0",
            "_view_count": null,
            "_view_module_version": "1.2.0",
            "bar_color": null,
            "_model_module": "@jupyter-widgets/controls"
          }
        },
        "791e9e0332734cd683b5ba8b606e72ed": {
          "model_module": "@jupyter-widgets/base",
          "model_name": "LayoutModel",
          "state": {
            "_view_name": "LayoutView",
            "grid_template_rows": null,
            "right": null,
            "justify_content": null,
            "_view_module": "@jupyter-widgets/base",
            "overflow": null,
            "_model_module_version": "1.2.0",
            "_view_count": null,
            "flex_flow": null,
            "width": null,
            "min_width": null,
            "border": null,
            "align_items": null,
            "bottom": null,
            "_model_module": "@jupyter-widgets/base",
            "top": null,
            "grid_column": null,
            "overflow_y": null,
            "overflow_x": null,
            "grid_auto_flow": null,
            "grid_area": null,
            "grid_template_columns": null,
            "flex": null,
            "_model_name": "LayoutModel",
            "justify_items": null,
            "grid_row": null,
            "max_height": null,
            "align_content": null,
            "visibility": null,
            "align_self": null,
            "height": null,
            "min_height": null,
            "padding": null,
            "grid_auto_rows": null,
            "grid_gap": null,
            "max_width": null,
            "order": null,
            "_view_module_version": "1.2.0",
            "grid_template_areas": null,
            "object_position": null,
            "object_fit": null,
            "grid_auto_columns": null,
            "margin": null,
            "display": null,
            "left": null
          }
        },
        "d700ea77612e41efb20d3b523fb465f2": {
          "model_module": "@jupyter-widgets/controls",
          "model_name": "DescriptionStyleModel",
          "state": {
            "_view_name": "StyleView",
            "_model_name": "DescriptionStyleModel",
            "description_width": "",
            "_view_module": "@jupyter-widgets/base",
            "_model_module_version": "1.5.0",
            "_view_count": null,
            "_view_module_version": "1.2.0",
            "_model_module": "@jupyter-widgets/controls"
          }
        },
        "b63e6275b32345c98b141e81e777d364": {
          "model_module": "@jupyter-widgets/base",
          "model_name": "LayoutModel",
          "state": {
            "_view_name": "LayoutView",
            "grid_template_rows": null,
            "right": null,
            "justify_content": null,
            "_view_module": "@jupyter-widgets/base",
            "overflow": null,
            "_model_module_version": "1.2.0",
            "_view_count": null,
            "flex_flow": null,
            "width": null,
            "min_width": null,
            "border": null,
            "align_items": null,
            "bottom": null,
            "_model_module": "@jupyter-widgets/base",
            "top": null,
            "grid_column": null,
            "overflow_y": null,
            "overflow_x": null,
            "grid_auto_flow": null,
            "grid_area": null,
            "grid_template_columns": null,
            "flex": null,
            "_model_name": "LayoutModel",
            "justify_items": null,
            "grid_row": null,
            "max_height": null,
            "align_content": null,
            "visibility": null,
            "align_self": null,
            "height": null,
            "min_height": null,
            "padding": null,
            "grid_auto_rows": null,
            "grid_gap": null,
            "max_width": null,
            "order": null,
            "_view_module_version": "1.2.0",
            "grid_template_areas": null,
            "object_position": null,
            "object_fit": null,
            "grid_auto_columns": null,
            "margin": null,
            "display": null,
            "left": null
          }
        },
        "bb54588c2bd44c549caddc4efa8bd2ca": {
          "model_module": "@jupyter-widgets/controls",
          "model_name": "HBoxModel",
          "state": {
            "_view_name": "HBoxView",
            "_dom_classes": [],
            "_model_name": "HBoxModel",
            "_view_module": "@jupyter-widgets/controls",
            "_model_module_version": "1.5.0",
            "_view_count": null,
            "_view_module_version": "1.5.0",
            "box_style": "",
            "layout": "IPY_MODEL_d87b4e3ca7474139a61687428507236f",
            "_model_module": "@jupyter-widgets/controls",
            "children": [
              "IPY_MODEL_e7f18b5ea18f4d06acb29f4a4560e258",
              "IPY_MODEL_9dee343f02674398a4d69f2ff6460040"
            ]
          }
        },
        "d87b4e3ca7474139a61687428507236f": {
          "model_module": "@jupyter-widgets/base",
          "model_name": "LayoutModel",
          "state": {
            "_view_name": "LayoutView",
            "grid_template_rows": null,
            "right": null,
            "justify_content": null,
            "_view_module": "@jupyter-widgets/base",
            "overflow": null,
            "_model_module_version": "1.2.0",
            "_view_count": null,
            "flex_flow": null,
            "width": null,
            "min_width": null,
            "border": null,
            "align_items": null,
            "bottom": null,
            "_model_module": "@jupyter-widgets/base",
            "top": null,
            "grid_column": null,
            "overflow_y": null,
            "overflow_x": null,
            "grid_auto_flow": null,
            "grid_area": null,
            "grid_template_columns": null,
            "flex": null,
            "_model_name": "LayoutModel",
            "justify_items": null,
            "grid_row": null,
            "max_height": null,
            "align_content": null,
            "visibility": null,
            "align_self": null,
            "height": null,
            "min_height": null,
            "padding": null,
            "grid_auto_rows": null,
            "grid_gap": null,
            "max_width": null,
            "order": null,
            "_view_module_version": "1.2.0",
            "grid_template_areas": null,
            "object_position": null,
            "object_fit": null,
            "grid_auto_columns": null,
            "margin": null,
            "display": null,
            "left": null
          }
        },
        "e7f18b5ea18f4d06acb29f4a4560e258": {
          "model_module": "@jupyter-widgets/controls",
          "model_name": "FloatProgressModel",
          "state": {
            "_view_name": "ProgressView",
            "style": "IPY_MODEL_ad58bf4ffebe4829b339242ef6bf1245",
            "_dom_classes": [],
            "description": "Downloading: 100%",
            "_model_name": "FloatProgressModel",
            "bar_style": "success",
            "max": 231508,
            "_view_module": "@jupyter-widgets/controls",
            "_model_module_version": "1.5.0",
            "value": 231508,
            "_view_count": null,
            "_view_module_version": "1.5.0",
            "orientation": "horizontal",
            "min": 0,
            "description_tooltip": null,
            "_model_module": "@jupyter-widgets/controls",
            "layout": "IPY_MODEL_4eb900db632b465f8ced680a189a2a2f"
          }
        },
        "9dee343f02674398a4d69f2ff6460040": {
          "model_module": "@jupyter-widgets/controls",
          "model_name": "HTMLModel",
          "state": {
            "_view_name": "HTMLView",
            "style": "IPY_MODEL_2f76826dad1740418d2987a47fa7b377",
            "_dom_classes": [],
            "description": "",
            "_model_name": "HTMLModel",
            "placeholder": "​",
            "_view_module": "@jupyter-widgets/controls",
            "_model_module_version": "1.5.0",
            "value": " 232k/232k [00:01&lt;00:00, 165kB/s]",
            "_view_count": null,
            "_view_module_version": "1.5.0",
            "description_tooltip": null,
            "_model_module": "@jupyter-widgets/controls",
            "layout": "IPY_MODEL_616e9743f8434d2e83907d0ffbbc0a77"
          }
        },
        "ad58bf4ffebe4829b339242ef6bf1245": {
          "model_module": "@jupyter-widgets/controls",
          "model_name": "ProgressStyleModel",
          "state": {
            "_view_name": "StyleView",
            "_model_name": "ProgressStyleModel",
            "description_width": "initial",
            "_view_module": "@jupyter-widgets/base",
            "_model_module_version": "1.5.0",
            "_view_count": null,
            "_view_module_version": "1.2.0",
            "bar_color": null,
            "_model_module": "@jupyter-widgets/controls"
          }
        },
        "4eb900db632b465f8ced680a189a2a2f": {
          "model_module": "@jupyter-widgets/base",
          "model_name": "LayoutModel",
          "state": {
            "_view_name": "LayoutView",
            "grid_template_rows": null,
            "right": null,
            "justify_content": null,
            "_view_module": "@jupyter-widgets/base",
            "overflow": null,
            "_model_module_version": "1.2.0",
            "_view_count": null,
            "flex_flow": null,
            "width": null,
            "min_width": null,
            "border": null,
            "align_items": null,
            "bottom": null,
            "_model_module": "@jupyter-widgets/base",
            "top": null,
            "grid_column": null,
            "overflow_y": null,
            "overflow_x": null,
            "grid_auto_flow": null,
            "grid_area": null,
            "grid_template_columns": null,
            "flex": null,
            "_model_name": "LayoutModel",
            "justify_items": null,
            "grid_row": null,
            "max_height": null,
            "align_content": null,
            "visibility": null,
            "align_self": null,
            "height": null,
            "min_height": null,
            "padding": null,
            "grid_auto_rows": null,
            "grid_gap": null,
            "max_width": null,
            "order": null,
            "_view_module_version": "1.2.0",
            "grid_template_areas": null,
            "object_position": null,
            "object_fit": null,
            "grid_auto_columns": null,
            "margin": null,
            "display": null,
            "left": null
          }
        },
        "2f76826dad1740418d2987a47fa7b377": {
          "model_module": "@jupyter-widgets/controls",
          "model_name": "DescriptionStyleModel",
          "state": {
            "_view_name": "StyleView",
            "_model_name": "DescriptionStyleModel",
            "description_width": "",
            "_view_module": "@jupyter-widgets/base",
            "_model_module_version": "1.5.0",
            "_view_count": null,
            "_view_module_version": "1.2.0",
            "_model_module": "@jupyter-widgets/controls"
          }
        },
        "616e9743f8434d2e83907d0ffbbc0a77": {
          "model_module": "@jupyter-widgets/base",
          "model_name": "LayoutModel",
          "state": {
            "_view_name": "LayoutView",
            "grid_template_rows": null,
            "right": null,
            "justify_content": null,
            "_view_module": "@jupyter-widgets/base",
            "overflow": null,
            "_model_module_version": "1.2.0",
            "_view_count": null,
            "flex_flow": null,
            "width": null,
            "min_width": null,
            "border": null,
            "align_items": null,
            "bottom": null,
            "_model_module": "@jupyter-widgets/base",
            "top": null,
            "grid_column": null,
            "overflow_y": null,
            "overflow_x": null,
            "grid_auto_flow": null,
            "grid_area": null,
            "grid_template_columns": null,
            "flex": null,
            "_model_name": "LayoutModel",
            "justify_items": null,
            "grid_row": null,
            "max_height": null,
            "align_content": null,
            "visibility": null,
            "align_self": null,
            "height": null,
            "min_height": null,
            "padding": null,
            "grid_auto_rows": null,
            "grid_gap": null,
            "max_width": null,
            "order": null,
            "_view_module_version": "1.2.0",
            "grid_template_areas": null,
            "object_position": null,
            "object_fit": null,
            "grid_auto_columns": null,
            "margin": null,
            "display": null,
            "left": null
          }
        },
        "922ca5fd793e4a209489296a28be8ce4": {
          "model_module": "@jupyter-widgets/controls",
          "model_name": "HBoxModel",
          "state": {
            "_view_name": "HBoxView",
            "_dom_classes": [],
            "_model_name": "HBoxModel",
            "_view_module": "@jupyter-widgets/controls",
            "_model_module_version": "1.5.0",
            "_view_count": null,
            "_view_module_version": "1.5.0",
            "box_style": "",
            "layout": "IPY_MODEL_899b2185f7334e77bf3463c3beed6f5d",
            "_model_module": "@jupyter-widgets/controls",
            "children": [
              "IPY_MODEL_eb2023075c574fb0ae2db9215099f5fb",
              "IPY_MODEL_da863feb3a1c4c38b280a4900400e033"
            ]
          }
        },
        "899b2185f7334e77bf3463c3beed6f5d": {
          "model_module": "@jupyter-widgets/base",
          "model_name": "LayoutModel",
          "state": {
            "_view_name": "LayoutView",
            "grid_template_rows": null,
            "right": null,
            "justify_content": null,
            "_view_module": "@jupyter-widgets/base",
            "overflow": null,
            "_model_module_version": "1.2.0",
            "_view_count": null,
            "flex_flow": null,
            "width": null,
            "min_width": null,
            "border": null,
            "align_items": null,
            "bottom": null,
            "_model_module": "@jupyter-widgets/base",
            "top": null,
            "grid_column": null,
            "overflow_y": null,
            "overflow_x": null,
            "grid_auto_flow": null,
            "grid_area": null,
            "grid_template_columns": null,
            "flex": null,
            "_model_name": "LayoutModel",
            "justify_items": null,
            "grid_row": null,
            "max_height": null,
            "align_content": null,
            "visibility": null,
            "align_self": null,
            "height": null,
            "min_height": null,
            "padding": null,
            "grid_auto_rows": null,
            "grid_gap": null,
            "max_width": null,
            "order": null,
            "_view_module_version": "1.2.0",
            "grid_template_areas": null,
            "object_position": null,
            "object_fit": null,
            "grid_auto_columns": null,
            "margin": null,
            "display": null,
            "left": null
          }
        },
        "eb2023075c574fb0ae2db9215099f5fb": {
          "model_module": "@jupyter-widgets/controls",
          "model_name": "FloatProgressModel",
          "state": {
            "_view_name": "ProgressView",
            "style": "IPY_MODEL_d50c55a5e06745dfb4a724834a0b0236",
            "_dom_classes": [],
            "description": "Downloading: 100%",
            "_model_name": "FloatProgressModel",
            "bar_style": "success",
            "max": 28,
            "_view_module": "@jupyter-widgets/controls",
            "_model_module_version": "1.5.0",
            "value": 28,
            "_view_count": null,
            "_view_module_version": "1.5.0",
            "orientation": "horizontal",
            "min": 0,
            "description_tooltip": null,
            "_model_module": "@jupyter-widgets/controls",
            "layout": "IPY_MODEL_b8a460826da94624a45087a12d515c8f"
          }
        },
        "da863feb3a1c4c38b280a4900400e033": {
          "model_module": "@jupyter-widgets/controls",
          "model_name": "HTMLModel",
          "state": {
            "_view_name": "HTMLView",
            "style": "IPY_MODEL_ef9988bbe14f40a6a590df994d9516cd",
            "_dom_classes": [],
            "description": "",
            "_model_name": "HTMLModel",
            "placeholder": "​",
            "_view_module": "@jupyter-widgets/controls",
            "_model_module_version": "1.5.0",
            "value": " 28.0/28.0 [00:02&lt;00:00, 13.6B/s]",
            "_view_count": null,
            "_view_module_version": "1.5.0",
            "description_tooltip": null,
            "_model_module": "@jupyter-widgets/controls",
            "layout": "IPY_MODEL_33920845a41e490b8e6f9b3d2f422e3b"
          }
        },
        "d50c55a5e06745dfb4a724834a0b0236": {
          "model_module": "@jupyter-widgets/controls",
          "model_name": "ProgressStyleModel",
          "state": {
            "_view_name": "StyleView",
            "_model_name": "ProgressStyleModel",
            "description_width": "initial",
            "_view_module": "@jupyter-widgets/base",
            "_model_module_version": "1.5.0",
            "_view_count": null,
            "_view_module_version": "1.2.0",
            "bar_color": null,
            "_model_module": "@jupyter-widgets/controls"
          }
        },
        "b8a460826da94624a45087a12d515c8f": {
          "model_module": "@jupyter-widgets/base",
          "model_name": "LayoutModel",
          "state": {
            "_view_name": "LayoutView",
            "grid_template_rows": null,
            "right": null,
            "justify_content": null,
            "_view_module": "@jupyter-widgets/base",
            "overflow": null,
            "_model_module_version": "1.2.0",
            "_view_count": null,
            "flex_flow": null,
            "width": null,
            "min_width": null,
            "border": null,
            "align_items": null,
            "bottom": null,
            "_model_module": "@jupyter-widgets/base",
            "top": null,
            "grid_column": null,
            "overflow_y": null,
            "overflow_x": null,
            "grid_auto_flow": null,
            "grid_area": null,
            "grid_template_columns": null,
            "flex": null,
            "_model_name": "LayoutModel",
            "justify_items": null,
            "grid_row": null,
            "max_height": null,
            "align_content": null,
            "visibility": null,
            "align_self": null,
            "height": null,
            "min_height": null,
            "padding": null,
            "grid_auto_rows": null,
            "grid_gap": null,
            "max_width": null,
            "order": null,
            "_view_module_version": "1.2.0",
            "grid_template_areas": null,
            "object_position": null,
            "object_fit": null,
            "grid_auto_columns": null,
            "margin": null,
            "display": null,
            "left": null
          }
        },
        "ef9988bbe14f40a6a590df994d9516cd": {
          "model_module": "@jupyter-widgets/controls",
          "model_name": "DescriptionStyleModel",
          "state": {
            "_view_name": "StyleView",
            "_model_name": "DescriptionStyleModel",
            "description_width": "",
            "_view_module": "@jupyter-widgets/base",
            "_model_module_version": "1.5.0",
            "_view_count": null,
            "_view_module_version": "1.2.0",
            "_model_module": "@jupyter-widgets/controls"
          }
        },
        "33920845a41e490b8e6f9b3d2f422e3b": {
          "model_module": "@jupyter-widgets/base",
          "model_name": "LayoutModel",
          "state": {
            "_view_name": "LayoutView",
            "grid_template_rows": null,
            "right": null,
            "justify_content": null,
            "_view_module": "@jupyter-widgets/base",
            "overflow": null,
            "_model_module_version": "1.2.0",
            "_view_count": null,
            "flex_flow": null,
            "width": null,
            "min_width": null,
            "border": null,
            "align_items": null,
            "bottom": null,
            "_model_module": "@jupyter-widgets/base",
            "top": null,
            "grid_column": null,
            "overflow_y": null,
            "overflow_x": null,
            "grid_auto_flow": null,
            "grid_area": null,
            "grid_template_columns": null,
            "flex": null,
            "_model_name": "LayoutModel",
            "justify_items": null,
            "grid_row": null,
            "max_height": null,
            "align_content": null,
            "visibility": null,
            "align_self": null,
            "height": null,
            "min_height": null,
            "padding": null,
            "grid_auto_rows": null,
            "grid_gap": null,
            "max_width": null,
            "order": null,
            "_view_module_version": "1.2.0",
            "grid_template_areas": null,
            "object_position": null,
            "object_fit": null,
            "grid_auto_columns": null,
            "margin": null,
            "display": null,
            "left": null
          }
        },
        "1981da3bb2f34ae5a4ed55140112f07f": {
          "model_module": "@jupyter-widgets/controls",
          "model_name": "HBoxModel",
          "state": {
            "_view_name": "HBoxView",
            "_dom_classes": [],
            "_model_name": "HBoxModel",
            "_view_module": "@jupyter-widgets/controls",
            "_model_module_version": "1.5.0",
            "_view_count": null,
            "_view_module_version": "1.5.0",
            "box_style": "",
            "layout": "IPY_MODEL_10ad9ca078ea4f2bba1e27d5bf8a11d4",
            "_model_module": "@jupyter-widgets/controls",
            "children": [
              "IPY_MODEL_eb08000ef07641c5a0897dd48341a143",
              "IPY_MODEL_893963e59b184e01aa492514c4ec2481"
            ]
          }
        },
        "10ad9ca078ea4f2bba1e27d5bf8a11d4": {
          "model_module": "@jupyter-widgets/base",
          "model_name": "LayoutModel",
          "state": {
            "_view_name": "LayoutView",
            "grid_template_rows": null,
            "right": null,
            "justify_content": null,
            "_view_module": "@jupyter-widgets/base",
            "overflow": null,
            "_model_module_version": "1.2.0",
            "_view_count": null,
            "flex_flow": null,
            "width": null,
            "min_width": null,
            "border": null,
            "align_items": null,
            "bottom": null,
            "_model_module": "@jupyter-widgets/base",
            "top": null,
            "grid_column": null,
            "overflow_y": null,
            "overflow_x": null,
            "grid_auto_flow": null,
            "grid_area": null,
            "grid_template_columns": null,
            "flex": null,
            "_model_name": "LayoutModel",
            "justify_items": null,
            "grid_row": null,
            "max_height": null,
            "align_content": null,
            "visibility": null,
            "align_self": null,
            "height": null,
            "min_height": null,
            "padding": null,
            "grid_auto_rows": null,
            "grid_gap": null,
            "max_width": null,
            "order": null,
            "_view_module_version": "1.2.0",
            "grid_template_areas": null,
            "object_position": null,
            "object_fit": null,
            "grid_auto_columns": null,
            "margin": null,
            "display": null,
            "left": null
          }
        },
        "eb08000ef07641c5a0897dd48341a143": {
          "model_module": "@jupyter-widgets/controls",
          "model_name": "FloatProgressModel",
          "state": {
            "_view_name": "ProgressView",
            "style": "IPY_MODEL_ca418938cccf4c41b1c3b9b93c1dddf5",
            "_dom_classes": [],
            "description": "Downloading: 100%",
            "_model_name": "FloatProgressModel",
            "bar_style": "success",
            "max": 466062,
            "_view_module": "@jupyter-widgets/controls",
            "_model_module_version": "1.5.0",
            "value": 466062,
            "_view_count": null,
            "_view_module_version": "1.5.0",
            "orientation": "horizontal",
            "min": 0,
            "description_tooltip": null,
            "_model_module": "@jupyter-widgets/controls",
            "layout": "IPY_MODEL_a66b6e25038440d898ec2cecee02b41e"
          }
        },
        "893963e59b184e01aa492514c4ec2481": {
          "model_module": "@jupyter-widgets/controls",
          "model_name": "HTMLModel",
          "state": {
            "_view_name": "HTMLView",
            "style": "IPY_MODEL_a5a6069cd3c248be8d310e763ddc0a3c",
            "_dom_classes": [],
            "description": "",
            "_model_name": "HTMLModel",
            "placeholder": "​",
            "_view_module": "@jupyter-widgets/controls",
            "_model_module_version": "1.5.0",
            "value": " 466k/466k [00:00&lt;00:00, 825kB/s]",
            "_view_count": null,
            "_view_module_version": "1.5.0",
            "description_tooltip": null,
            "_model_module": "@jupyter-widgets/controls",
            "layout": "IPY_MODEL_a33f8faef1924ad88a154c18e6a64680"
          }
        },
        "ca418938cccf4c41b1c3b9b93c1dddf5": {
          "model_module": "@jupyter-widgets/controls",
          "model_name": "ProgressStyleModel",
          "state": {
            "_view_name": "StyleView",
            "_model_name": "ProgressStyleModel",
            "description_width": "initial",
            "_view_module": "@jupyter-widgets/base",
            "_model_module_version": "1.5.0",
            "_view_count": null,
            "_view_module_version": "1.2.0",
            "bar_color": null,
            "_model_module": "@jupyter-widgets/controls"
          }
        },
        "a66b6e25038440d898ec2cecee02b41e": {
          "model_module": "@jupyter-widgets/base",
          "model_name": "LayoutModel",
          "state": {
            "_view_name": "LayoutView",
            "grid_template_rows": null,
            "right": null,
            "justify_content": null,
            "_view_module": "@jupyter-widgets/base",
            "overflow": null,
            "_model_module_version": "1.2.0",
            "_view_count": null,
            "flex_flow": null,
            "width": null,
            "min_width": null,
            "border": null,
            "align_items": null,
            "bottom": null,
            "_model_module": "@jupyter-widgets/base",
            "top": null,
            "grid_column": null,
            "overflow_y": null,
            "overflow_x": null,
            "grid_auto_flow": null,
            "grid_area": null,
            "grid_template_columns": null,
            "flex": null,
            "_model_name": "LayoutModel",
            "justify_items": null,
            "grid_row": null,
            "max_height": null,
            "align_content": null,
            "visibility": null,
            "align_self": null,
            "height": null,
            "min_height": null,
            "padding": null,
            "grid_auto_rows": null,
            "grid_gap": null,
            "max_width": null,
            "order": null,
            "_view_module_version": "1.2.0",
            "grid_template_areas": null,
            "object_position": null,
            "object_fit": null,
            "grid_auto_columns": null,
            "margin": null,
            "display": null,
            "left": null
          }
        },
        "a5a6069cd3c248be8d310e763ddc0a3c": {
          "model_module": "@jupyter-widgets/controls",
          "model_name": "DescriptionStyleModel",
          "state": {
            "_view_name": "StyleView",
            "_model_name": "DescriptionStyleModel",
            "description_width": "",
            "_view_module": "@jupyter-widgets/base",
            "_model_module_version": "1.5.0",
            "_view_count": null,
            "_view_module_version": "1.2.0",
            "_model_module": "@jupyter-widgets/controls"
          }
        },
        "a33f8faef1924ad88a154c18e6a64680": {
          "model_module": "@jupyter-widgets/base",
          "model_name": "LayoutModel",
          "state": {
            "_view_name": "LayoutView",
            "grid_template_rows": null,
            "right": null,
            "justify_content": null,
            "_view_module": "@jupyter-widgets/base",
            "overflow": null,
            "_model_module_version": "1.2.0",
            "_view_count": null,
            "flex_flow": null,
            "width": null,
            "min_width": null,
            "border": null,
            "align_items": null,
            "bottom": null,
            "_model_module": "@jupyter-widgets/base",
            "top": null,
            "grid_column": null,
            "overflow_y": null,
            "overflow_x": null,
            "grid_auto_flow": null,
            "grid_area": null,
            "grid_template_columns": null,
            "flex": null,
            "_model_name": "LayoutModel",
            "justify_items": null,
            "grid_row": null,
            "max_height": null,
            "align_content": null,
            "visibility": null,
            "align_self": null,
            "height": null,
            "min_height": null,
            "padding": null,
            "grid_auto_rows": null,
            "grid_gap": null,
            "max_width": null,
            "order": null,
            "_view_module_version": "1.2.0",
            "grid_template_areas": null,
            "object_position": null,
            "object_fit": null,
            "grid_auto_columns": null,
            "margin": null,
            "display": null,
            "left": null
          }
        },
        "041c123aa06d4bb388f6edd6f474a120": {
          "model_module": "@jupyter-widgets/controls",
          "model_name": "HBoxModel",
          "state": {
            "_view_name": "HBoxView",
            "_dom_classes": [],
            "_model_name": "HBoxModel",
            "_view_module": "@jupyter-widgets/controls",
            "_model_module_version": "1.5.0",
            "_view_count": null,
            "_view_module_version": "1.5.0",
            "box_style": "",
            "layout": "IPY_MODEL_c4c56da7abaa44f399848e196c2ead31",
            "_model_module": "@jupyter-widgets/controls",
            "children": [
              "IPY_MODEL_23989b8068764764852e5474d4006c06",
              "IPY_MODEL_56c28140c97443db8c41857f43719a02"
            ]
          }
        },
        "c4c56da7abaa44f399848e196c2ead31": {
          "model_module": "@jupyter-widgets/base",
          "model_name": "LayoutModel",
          "state": {
            "_view_name": "LayoutView",
            "grid_template_rows": null,
            "right": null,
            "justify_content": null,
            "_view_module": "@jupyter-widgets/base",
            "overflow": null,
            "_model_module_version": "1.2.0",
            "_view_count": null,
            "flex_flow": null,
            "width": null,
            "min_width": null,
            "border": null,
            "align_items": null,
            "bottom": null,
            "_model_module": "@jupyter-widgets/base",
            "top": null,
            "grid_column": null,
            "overflow_y": null,
            "overflow_x": null,
            "grid_auto_flow": null,
            "grid_area": null,
            "grid_template_columns": null,
            "flex": null,
            "_model_name": "LayoutModel",
            "justify_items": null,
            "grid_row": null,
            "max_height": null,
            "align_content": null,
            "visibility": null,
            "align_self": null,
            "height": null,
            "min_height": null,
            "padding": null,
            "grid_auto_rows": null,
            "grid_gap": null,
            "max_width": null,
            "order": null,
            "_view_module_version": "1.2.0",
            "grid_template_areas": null,
            "object_position": null,
            "object_fit": null,
            "grid_auto_columns": null,
            "margin": null,
            "display": null,
            "left": null
          }
        },
        "23989b8068764764852e5474d4006c06": {
          "model_module": "@jupyter-widgets/controls",
          "model_name": "FloatProgressModel",
          "state": {
            "_view_name": "ProgressView",
            "style": "IPY_MODEL_454491f08f624ed990ba6949afc7d9b7",
            "_dom_classes": [],
            "description": "Downloading: 100%",
            "_model_name": "FloatProgressModel",
            "bar_style": "success",
            "max": 570,
            "_view_module": "@jupyter-widgets/controls",
            "_model_module_version": "1.5.0",
            "value": 570,
            "_view_count": null,
            "_view_module_version": "1.5.0",
            "orientation": "horizontal",
            "min": 0,
            "description_tooltip": null,
            "_model_module": "@jupyter-widgets/controls",
            "layout": "IPY_MODEL_1e007990def14170b07ae60b14aad48b"
          }
        },
        "56c28140c97443db8c41857f43719a02": {
          "model_module": "@jupyter-widgets/controls",
          "model_name": "HTMLModel",
          "state": {
            "_view_name": "HTMLView",
            "style": "IPY_MODEL_0e159b103a6d40809896cff50de63e49",
            "_dom_classes": [],
            "description": "",
            "_model_name": "HTMLModel",
            "placeholder": "​",
            "_view_module": "@jupyter-widgets/controls",
            "_model_module_version": "1.5.0",
            "value": " 570/570 [00:00&lt;00:00, 745B/s]",
            "_view_count": null,
            "_view_module_version": "1.5.0",
            "description_tooltip": null,
            "_model_module": "@jupyter-widgets/controls",
            "layout": "IPY_MODEL_f79564f86f6d4457b5e87e8e62d6392f"
          }
        },
        "454491f08f624ed990ba6949afc7d9b7": {
          "model_module": "@jupyter-widgets/controls",
          "model_name": "ProgressStyleModel",
          "state": {
            "_view_name": "StyleView",
            "_model_name": "ProgressStyleModel",
            "description_width": "initial",
            "_view_module": "@jupyter-widgets/base",
            "_model_module_version": "1.5.0",
            "_view_count": null,
            "_view_module_version": "1.2.0",
            "bar_color": null,
            "_model_module": "@jupyter-widgets/controls"
          }
        },
        "1e007990def14170b07ae60b14aad48b": {
          "model_module": "@jupyter-widgets/base",
          "model_name": "LayoutModel",
          "state": {
            "_view_name": "LayoutView",
            "grid_template_rows": null,
            "right": null,
            "justify_content": null,
            "_view_module": "@jupyter-widgets/base",
            "overflow": null,
            "_model_module_version": "1.2.0",
            "_view_count": null,
            "flex_flow": null,
            "width": null,
            "min_width": null,
            "border": null,
            "align_items": null,
            "bottom": null,
            "_model_module": "@jupyter-widgets/base",
            "top": null,
            "grid_column": null,
            "overflow_y": null,
            "overflow_x": null,
            "grid_auto_flow": null,
            "grid_area": null,
            "grid_template_columns": null,
            "flex": null,
            "_model_name": "LayoutModel",
            "justify_items": null,
            "grid_row": null,
            "max_height": null,
            "align_content": null,
            "visibility": null,
            "align_self": null,
            "height": null,
            "min_height": null,
            "padding": null,
            "grid_auto_rows": null,
            "grid_gap": null,
            "max_width": null,
            "order": null,
            "_view_module_version": "1.2.0",
            "grid_template_areas": null,
            "object_position": null,
            "object_fit": null,
            "grid_auto_columns": null,
            "margin": null,
            "display": null,
            "left": null
          }
        },
        "0e159b103a6d40809896cff50de63e49": {
          "model_module": "@jupyter-widgets/controls",
          "model_name": "DescriptionStyleModel",
          "state": {
            "_view_name": "StyleView",
            "_model_name": "DescriptionStyleModel",
            "description_width": "",
            "_view_module": "@jupyter-widgets/base",
            "_model_module_version": "1.5.0",
            "_view_count": null,
            "_view_module_version": "1.2.0",
            "_model_module": "@jupyter-widgets/controls"
          }
        },
        "f79564f86f6d4457b5e87e8e62d6392f": {
          "model_module": "@jupyter-widgets/base",
          "model_name": "LayoutModel",
          "state": {
            "_view_name": "LayoutView",
            "grid_template_rows": null,
            "right": null,
            "justify_content": null,
            "_view_module": "@jupyter-widgets/base",
            "overflow": null,
            "_model_module_version": "1.2.0",
            "_view_count": null,
            "flex_flow": null,
            "width": null,
            "min_width": null,
            "border": null,
            "align_items": null,
            "bottom": null,
            "_model_module": "@jupyter-widgets/base",
            "top": null,
            "grid_column": null,
            "overflow_y": null,
            "overflow_x": null,
            "grid_auto_flow": null,
            "grid_area": null,
            "grid_template_columns": null,
            "flex": null,
            "_model_name": "LayoutModel",
            "justify_items": null,
            "grid_row": null,
            "max_height": null,
            "align_content": null,
            "visibility": null,
            "align_self": null,
            "height": null,
            "min_height": null,
            "padding": null,
            "grid_auto_rows": null,
            "grid_gap": null,
            "max_width": null,
            "order": null,
            "_view_module_version": "1.2.0",
            "grid_template_areas": null,
            "object_position": null,
            "object_fit": null,
            "grid_auto_columns": null,
            "margin": null,
            "display": null,
            "left": null
          }
        },
        "cffde9bf05cd4f438c31e86c91db32da": {
          "model_module": "@jupyter-widgets/controls",
          "model_name": "HBoxModel",
          "state": {
            "_view_name": "HBoxView",
            "_dom_classes": [],
            "_model_name": "HBoxModel",
            "_view_module": "@jupyter-widgets/controls",
            "_model_module_version": "1.5.0",
            "_view_count": null,
            "_view_module_version": "1.5.0",
            "box_style": "",
            "layout": "IPY_MODEL_6a364e2c9c9c4ee6ba0196655ae49147",
            "_model_module": "@jupyter-widgets/controls",
            "children": [
              "IPY_MODEL_98215d5a8a374b5dbbcbe84f1784e0e2",
              "IPY_MODEL_81ceb57508714efcab361eddb66f2035"
            ]
          }
        },
        "6a364e2c9c9c4ee6ba0196655ae49147": {
          "model_module": "@jupyter-widgets/base",
          "model_name": "LayoutModel",
          "state": {
            "_view_name": "LayoutView",
            "grid_template_rows": null,
            "right": null,
            "justify_content": null,
            "_view_module": "@jupyter-widgets/base",
            "overflow": null,
            "_model_module_version": "1.2.0",
            "_view_count": null,
            "flex_flow": null,
            "width": null,
            "min_width": null,
            "border": null,
            "align_items": null,
            "bottom": null,
            "_model_module": "@jupyter-widgets/base",
            "top": null,
            "grid_column": null,
            "overflow_y": null,
            "overflow_x": null,
            "grid_auto_flow": null,
            "grid_area": null,
            "grid_template_columns": null,
            "flex": null,
            "_model_name": "LayoutModel",
            "justify_items": null,
            "grid_row": null,
            "max_height": null,
            "align_content": null,
            "visibility": null,
            "align_self": null,
            "height": null,
            "min_height": null,
            "padding": null,
            "grid_auto_rows": null,
            "grid_gap": null,
            "max_width": null,
            "order": null,
            "_view_module_version": "1.2.0",
            "grid_template_areas": null,
            "object_position": null,
            "object_fit": null,
            "grid_auto_columns": null,
            "margin": null,
            "display": null,
            "left": null
          }
        },
        "98215d5a8a374b5dbbcbe84f1784e0e2": {
          "model_module": "@jupyter-widgets/controls",
          "model_name": "FloatProgressModel",
          "state": {
            "_view_name": "ProgressView",
            "style": "IPY_MODEL_0d24acfae1a84d7a8f0999197d28623e",
            "_dom_classes": [],
            "description": "Downloading: 100%",
            "_model_name": "FloatProgressModel",
            "bar_style": "success",
            "max": 440473133,
            "_view_module": "@jupyter-widgets/controls",
            "_model_module_version": "1.5.0",
            "value": 440473133,
            "_view_count": null,
            "_view_module_version": "1.5.0",
            "orientation": "horizontal",
            "min": 0,
            "description_tooltip": null,
            "_model_module": "@jupyter-widgets/controls",
            "layout": "IPY_MODEL_d98da5ba22414620b6812db0385b25fe"
          }
        },
        "81ceb57508714efcab361eddb66f2035": {
          "model_module": "@jupyter-widgets/controls",
          "model_name": "HTMLModel",
          "state": {
            "_view_name": "HTMLView",
            "style": "IPY_MODEL_191fe43fe8734337bb8c16aff8712e84",
            "_dom_classes": [],
            "description": "",
            "_model_name": "HTMLModel",
            "placeholder": "​",
            "_view_module": "@jupyter-widgets/controls",
            "_model_module_version": "1.5.0",
            "value": " 440M/440M [00:14&lt;00:00, 31.0MB/s]",
            "_view_count": null,
            "_view_module_version": "1.5.0",
            "description_tooltip": null,
            "_model_module": "@jupyter-widgets/controls",
            "layout": "IPY_MODEL_c65cdfc058774045bde1894b83e52afd"
          }
        },
        "0d24acfae1a84d7a8f0999197d28623e": {
          "model_module": "@jupyter-widgets/controls",
          "model_name": "ProgressStyleModel",
          "state": {
            "_view_name": "StyleView",
            "_model_name": "ProgressStyleModel",
            "description_width": "initial",
            "_view_module": "@jupyter-widgets/base",
            "_model_module_version": "1.5.0",
            "_view_count": null,
            "_view_module_version": "1.2.0",
            "bar_color": null,
            "_model_module": "@jupyter-widgets/controls"
          }
        },
        "d98da5ba22414620b6812db0385b25fe": {
          "model_module": "@jupyter-widgets/base",
          "model_name": "LayoutModel",
          "state": {
            "_view_name": "LayoutView",
            "grid_template_rows": null,
            "right": null,
            "justify_content": null,
            "_view_module": "@jupyter-widgets/base",
            "overflow": null,
            "_model_module_version": "1.2.0",
            "_view_count": null,
            "flex_flow": null,
            "width": null,
            "min_width": null,
            "border": null,
            "align_items": null,
            "bottom": null,
            "_model_module": "@jupyter-widgets/base",
            "top": null,
            "grid_column": null,
            "overflow_y": null,
            "overflow_x": null,
            "grid_auto_flow": null,
            "grid_area": null,
            "grid_template_columns": null,
            "flex": null,
            "_model_name": "LayoutModel",
            "justify_items": null,
            "grid_row": null,
            "max_height": null,
            "align_content": null,
            "visibility": null,
            "align_self": null,
            "height": null,
            "min_height": null,
            "padding": null,
            "grid_auto_rows": null,
            "grid_gap": null,
            "max_width": null,
            "order": null,
            "_view_module_version": "1.2.0",
            "grid_template_areas": null,
            "object_position": null,
            "object_fit": null,
            "grid_auto_columns": null,
            "margin": null,
            "display": null,
            "left": null
          }
        },
        "191fe43fe8734337bb8c16aff8712e84": {
          "model_module": "@jupyter-widgets/controls",
          "model_name": "DescriptionStyleModel",
          "state": {
            "_view_name": "StyleView",
            "_model_name": "DescriptionStyleModel",
            "description_width": "",
            "_view_module": "@jupyter-widgets/base",
            "_model_module_version": "1.5.0",
            "_view_count": null,
            "_view_module_version": "1.2.0",
            "_model_module": "@jupyter-widgets/controls"
          }
        },
        "c65cdfc058774045bde1894b83e52afd": {
          "model_module": "@jupyter-widgets/base",
          "model_name": "LayoutModel",
          "state": {
            "_view_name": "LayoutView",
            "grid_template_rows": null,
            "right": null,
            "justify_content": null,
            "_view_module": "@jupyter-widgets/base",
            "overflow": null,
            "_model_module_version": "1.2.0",
            "_view_count": null,
            "flex_flow": null,
            "width": null,
            "min_width": null,
            "border": null,
            "align_items": null,
            "bottom": null,
            "_model_module": "@jupyter-widgets/base",
            "top": null,
            "grid_column": null,
            "overflow_y": null,
            "overflow_x": null,
            "grid_auto_flow": null,
            "grid_area": null,
            "grid_template_columns": null,
            "flex": null,
            "_model_name": "LayoutModel",
            "justify_items": null,
            "grid_row": null,
            "max_height": null,
            "align_content": null,
            "visibility": null,
            "align_self": null,
            "height": null,
            "min_height": null,
            "padding": null,
            "grid_auto_rows": null,
            "grid_gap": null,
            "max_width": null,
            "order": null,
            "_view_module_version": "1.2.0",
            "grid_template_areas": null,
            "object_position": null,
            "object_fit": null,
            "grid_auto_columns": null,
            "margin": null,
            "display": null,
            "left": null
          }
        }
      }
    },
    "accelerator": "GPU"
  },
  "cells": [
    {
      "cell_type": "markdown",
      "metadata": {
        "id": "NF9cMYFS6pVv"
      },
      "source": [
        "# Fine-Tuning BERT for Sentiment Analysis in vanilla PyTorch"
      ]
    },
    {
      "cell_type": "markdown",
      "metadata": {
        "id": "xiusBb7-_v97"
      },
      "source": [
        "## Installations"
      ]
    },
    {
      "cell_type": "code",
      "metadata": {
        "colab": {
          "base_uri": "https://localhost:8080/"
        },
        "id": "EuY1uGIt6bEN",
        "outputId": "1d2f3cb9-5407-4f45-9ecd-42819de1bbbd"
      },
      "source": [
        "!pip install --quiet transformers[torch]\n",
        "!pip install --quiet datasets"
      ],
      "execution_count": null,
      "outputs": [
        {
          "output_type": "stream",
          "text": [
            "\u001b[K     |████████████████████████████████| 2.3MB 4.4MB/s \n",
            "\u001b[K     |████████████████████████████████| 3.3MB 20.3MB/s \n",
            "\u001b[K     |████████████████████████████████| 901kB 36.5MB/s \n",
            "\u001b[K     |████████████████████████████████| 245kB 4.3MB/s \n",
            "\u001b[K     |████████████████████████████████| 245kB 27.5MB/s \n",
            "\u001b[K     |████████████████████████████████| 122kB 24.9MB/s \n",
            "\u001b[?25h"
          ],
          "name": "stdout"
        }
      ]
    },
    {
      "cell_type": "markdown",
      "metadata": {
        "id": "DWV0bGIf6zM_"
      },
      "source": [
        "## Imports"
      ]
    },
    {
      "cell_type": "code",
      "metadata": {
        "id": "wtSMrSQV6dYh"
      },
      "source": [
        "import torch # pytorch\n",
        "import transformers # from huggingface\n",
        "from datasets import load_dataset # function to load a dataset that is pre loaded\n",
        "import pandas as pd # used for data analysis and manipulating data\n",
        "torch.cuda.empty_cache()"
      ],
      "execution_count": null,
      "outputs": []
    },
    {
      "cell_type": "markdown",
      "metadata": {
        "id": "qKN1cwuT69ax"
      },
      "source": [
        "## Load Dataset"
      ]
    },
    {
      "cell_type": "code",
      "metadata": {
        "colab": {
          "base_uri": "https://localhost:8080/",
          "height": 222,
          "referenced_widgets": [
            "837fad937678441da0e4d8489319298c",
            "43e4b1c09aca445a842c4ea5440f06f5",
            "e4925bcee751431ab84d68e236cfb421",
            "c82c776287f34c56848007beb11b0225",
            "a4c2969d15e94b57b6b2d0aef471617a",
            "384de4b7b8a64498afbf830ae3d1d3b1",
            "4a938c7fc4384902bf5f1c4ed1572867",
            "9a7f84c125824940a7f0c59934d887b8",
            "12f9a51d735a43c8ba41f811843aedd3",
            "8cc4084c77ad462ab677a254f65663db",
            "026684c93bef442cbe317bab516a859d",
            "bd5ede79e5d74f95b2e5910b33e23e26",
            "e0dafcf46b804803ad36241a1ec89605",
            "a62daa4de377470db5b2571e1d2cfe53",
            "51a58c7dd9a64be18b34149caa7bd0ee",
            "4c5a88629b55426ab8151cf4c6cb48ab",
            "b28e29ca7aee49d79ffdf749a6182d54",
            "67dffc0256be459e90f82262b8a3ced1",
            "3e4f763511044ebb960b1bc973b5abb0",
            "9c2c4c00c23d4ca3a1e809bf51719475",
            "82e50890b87e4c62b6146866b0fdbec8",
            "12cae665b8054211aa4b073343f5385a",
            "3a273261c9ec4eea86bc8655c9f06feb",
            "67e639e216e34e7b963417a9f1c4c0bf",
            "3cd0f31574c54ff4885968378f7b147b",
            "75d7e441c7424f6dad45a4eb54282bc2",
            "9e663a4a83464001b5cdd1fb0fcd6b07",
            "7c6cff16c8cd4510b7d53fded3c447d3",
            "eeab04d623b44130b72cc5b183246a8b",
            "3677889823da428f94d7089d6dd0404a",
            "b33e20e80011452d8dca12c2f9c355ec",
            "823fd1339e7c4f40baae9bb59df23a97",
            "8bb503834aab4ab5b7984196165c2b78",
            "fd9dc7d80d4749c890cb62b3a7eb0c9b",
            "40ce024db14b40aaa5f9dab147e3c6bb",
            "ee043ec734f14fe3aa6868528003e78c",
            "91d81c1bc843478ab46126a9a0f1ac87",
            "593b60f2793847918b895ee857f2ac10",
            "21fe6691de3c45b6abdbefc8b15f3d93",
            "9eb2b8edb44c432d985d25855189412c",
            "dcb05fa899034b469c2d50b7c36160a3",
            "c807d3456e1045fd918760449ab2d1dd",
            "ff6f864866b14bef9384c7399d205673",
            "4565eefa7e9740b4bf1108d63da64998",
            "2dace73fd114460fb487eaa5494b794a",
            "791e9e0332734cd683b5ba8b606e72ed",
            "d700ea77612e41efb20d3b523fb465f2",
            "b63e6275b32345c98b141e81e777d364"
          ]
        },
        "id": "267VAzqy64As",
        "outputId": "fe90228f-f082-4661-eee8-7ca85a1ca3ae"
      },
      "source": [
        "raw_datasets = load_dataset(\"imdb\") # load the IMDB dataset"
      ],
      "execution_count": null,
      "outputs": [
        {
          "output_type": "display_data",
          "data": {
            "application/vnd.jupyter.widget-view+json": {
              "model_id": "837fad937678441da0e4d8489319298c",
              "version_minor": 0,
              "version_major": 2
            },
            "text/plain": [
              "HBox(children=(FloatProgress(value=0.0, description='Downloading', max=1916.0, style=ProgressStyle(description…"
            ]
          },
          "metadata": {
            "tags": []
          }
        },
        {
          "output_type": "stream",
          "text": [
            "\n"
          ],
          "name": "stdout"
        },
        {
          "output_type": "display_data",
          "data": {
            "application/vnd.jupyter.widget-view+json": {
              "model_id": "12f9a51d735a43c8ba41f811843aedd3",
              "version_minor": 0,
              "version_major": 2
            },
            "text/plain": [
              "HBox(children=(FloatProgress(value=0.0, description='Downloading', max=1054.0, style=ProgressStyle(description…"
            ]
          },
          "metadata": {
            "tags": []
          }
        },
        {
          "output_type": "stream",
          "text": [
            "\n",
            "Downloading and preparing dataset imdb/plain_text (download: 80.23 MiB, generated: 127.02 MiB, post-processed: Unknown size, total: 207.25 MiB) to /root/.cache/huggingface/datasets/imdb/plain_text/1.0.0/e3c66f1788a67a89c7058d97ff62b6c30531e05b549de56d3ab91891f0561f9a...\n"
          ],
          "name": "stdout"
        },
        {
          "output_type": "display_data",
          "data": {
            "application/vnd.jupyter.widget-view+json": {
              "model_id": "b28e29ca7aee49d79ffdf749a6182d54",
              "version_minor": 0,
              "version_major": 2
            },
            "text/plain": [
              "HBox(children=(FloatProgress(value=0.0, description='Downloading', max=84125825.0, style=ProgressStyle(descrip…"
            ]
          },
          "metadata": {
            "tags": []
          }
        },
        {
          "output_type": "stream",
          "text": [
            "\n"
          ],
          "name": "stdout"
        },
        {
          "output_type": "display_data",
          "data": {
            "application/vnd.jupyter.widget-view+json": {
              "model_id": "3cd0f31574c54ff4885968378f7b147b",
              "version_minor": 0,
              "version_major": 2
            },
            "text/plain": [
              "HBox(children=(FloatProgress(value=1.0, bar_style='info', max=1.0), HTML(value='')))"
            ]
          },
          "metadata": {
            "tags": []
          }
        },
        {
          "output_type": "stream",
          "text": [
            "\r"
          ],
          "name": "stdout"
        },
        {
          "output_type": "display_data",
          "data": {
            "application/vnd.jupyter.widget-view+json": {
              "model_id": "8bb503834aab4ab5b7984196165c2b78",
              "version_minor": 0,
              "version_major": 2
            },
            "text/plain": [
              "HBox(children=(FloatProgress(value=1.0, bar_style='info', max=1.0), HTML(value='')))"
            ]
          },
          "metadata": {
            "tags": []
          }
        },
        {
          "output_type": "stream",
          "text": [
            "\r"
          ],
          "name": "stdout"
        },
        {
          "output_type": "display_data",
          "data": {
            "application/vnd.jupyter.widget-view+json": {
              "model_id": "dcb05fa899034b469c2d50b7c36160a3",
              "version_minor": 0,
              "version_major": 2
            },
            "text/plain": [
              "HBox(children=(FloatProgress(value=1.0, bar_style='info', max=1.0), HTML(value='')))"
            ]
          },
          "metadata": {
            "tags": []
          }
        },
        {
          "output_type": "stream",
          "text": [
            "\rDataset imdb downloaded and prepared to /root/.cache/huggingface/datasets/imdb/plain_text/1.0.0/e3c66f1788a67a89c7058d97ff62b6c30531e05b549de56d3ab91891f0561f9a. Subsequent calls will reuse this data.\n"
          ],
          "name": "stdout"
        }
      ]
    },
    {
      "cell_type": "code",
      "metadata": {
        "id": "8LPfX7o1-Bfj"
      },
      "source": [
        "df_train = pd.DataFrame() # store data\n",
        "df_test = pd.DataFrame()\n",
        "df_val = pd.DataFrame()"
      ],
      "execution_count": null,
      "outputs": []
    },
    {
      "cell_type": "code",
      "metadata": {
        "id": "b6itbkXh-Duh"
      },
      "source": [
        "# take the (text, label) pairs and put them into dataframe\n",
        "df_train['text'], df_train['labels'] = raw_datasets['train']['text'], raw_datasets['train']['label']\n",
        "df_test['text'], df_test['labels'] = raw_datasets['test']['text'], raw_datasets['test']['label']"
      ],
      "execution_count": null,
      "outputs": []
    },
    {
      "cell_type": "code",
      "metadata": {
        "id": "A2Aix3iR-NHm"
      },
      "source": [
        "df_train = df_train.sample(1000) # samples 1000 random samples for our training dataset"
      ],
      "execution_count": null,
      "outputs": []
    },
    {
      "cell_type": "code",
      "metadata": {
        "id": "6mRKnu5H-cPv"
      },
      "source": [
        "df_test_sample = df_test.sample(1000) # samples 1000 random samples for our test dataset"
      ],
      "execution_count": null,
      "outputs": []
    },
    {
      "cell_type": "code",
      "metadata": {
        "id": "zEs8zqTdzsOU"
      },
      "source": [
        "df_test = df_test_sample[:500] # Assign first 500 of test samples as test"
      ],
      "execution_count": null,
      "outputs": []
    },
    {
      "cell_type": "code",
      "metadata": {
        "colab": {
          "base_uri": "https://localhost:8080/"
        },
        "id": "sz1QwP0HzzFn",
        "outputId": "320c6629-8730-4793-d53f-7a9c60c99bc5"
      },
      "source": [
        "df_test.shape"
      ],
      "execution_count": null,
      "outputs": [
        {
          "output_type": "execute_result",
          "data": {
            "text/plain": [
              "(500, 2)"
            ]
          },
          "metadata": {
            "tags": []
          },
          "execution_count": 10
        }
      ]
    },
    {
      "cell_type": "code",
      "metadata": {
        "id": "9snl8tjoy1EE"
      },
      "source": [
        "df_val = df_test_sample[500:] # assign last 500 of test samples as validation samples"
      ],
      "execution_count": null,
      "outputs": []
    },
    {
      "cell_type": "code",
      "metadata": {
        "colab": {
          "base_uri": "https://localhost:8080/"
        },
        "id": "4dtJ9MNZjIAQ",
        "outputId": "27fc136a-9eaa-4ba5-a18d-aa0ac5ee6910"
      },
      "source": [
        "df_val.shape"
      ],
      "execution_count": null,
      "outputs": [
        {
          "output_type": "execute_result",
          "data": {
            "text/plain": [
              "(500, 2)"
            ]
          },
          "metadata": {
            "tags": []
          },
          "execution_count": 12
        }
      ]
    },
    {
      "cell_type": "code",
      "metadata": {
        "id": "Bb6qb4NDzEMr"
      },
      "source": [
        ""
      ],
      "execution_count": null,
      "outputs": []
    },
    {
      "cell_type": "code",
      "metadata": {
        "id": "hL6a6Vn3vdqN"
      },
      "source": [
        "# The whole dataset of 2000 samples\n",
        "data = df_train.append(df_test)\n",
        "data = data.append(df_val)"
      ],
      "execution_count": null,
      "outputs": []
    },
    {
      "cell_type": "code",
      "metadata": {
        "colab": {
          "base_uri": "https://localhost:8080/"
        },
        "id": "aUivRtF3jTYu",
        "outputId": "786f5811-36db-435e-8854-6d7822da7001"
      },
      "source": [
        "data.shape"
      ],
      "execution_count": null,
      "outputs": [
        {
          "output_type": "execute_result",
          "data": {
            "text/plain": [
              "(2000, 2)"
            ]
          },
          "metadata": {
            "tags": []
          },
          "execution_count": 14
        }
      ]
    },
    {
      "cell_type": "code",
      "metadata": {
        "id": "L_jB6Ag5wfhU"
      },
      "source": [
        "from sklearn.model_selection import train_test_split # This function automatically splits our dataset\n",
        "\n",
        "\n",
        "X = data.text.values # All our text samples\n",
        "y = data.labels.values # All our labels\n",
        "\n",
        "\n",
        "X_train, X_test, y_train, y_test = train_test_split(X, y, test_size=0.3) # Assign 30% to test and 70% of data to train\n",
        "X_train, X_val, y_train, y_val = train_test_split(X_train, y_train, test_size=0.5) # Out of the training samples, assign half as validation"
      ],
      "execution_count": null,
      "outputs": []
    },
    {
      "cell_type": "code",
      "metadata": {
        "colab": {
          "base_uri": "https://localhost:8080/"
        },
        "id": "m6qZgA7w1WB2",
        "outputId": "9a08c0e8-3aba-4224-e438-2e33ebbea075"
      },
      "source": [
        "X_val.shape[0] + X_test.shape[0] + X_train.shape[0]"
      ],
      "execution_count": null,
      "outputs": [
        {
          "output_type": "execute_result",
          "data": {
            "text/plain": [
              "2000"
            ]
          },
          "metadata": {
            "tags": []
          },
          "execution_count": 16
        }
      ]
    },
    {
      "cell_type": "markdown",
      "metadata": {
        "id": "JBop4yAQjqTy"
      },
      "source": [
        "## Set up GPU on PyTorch"
      ]
    },
    {
      "cell_type": "code",
      "metadata": {
        "colab": {
          "base_uri": "https://localhost:8080/"
        },
        "id": "CDqV0KYgjYXe",
        "outputId": "d14cbee6-06f1-4119-d9c3-37961cc6c3f2"
      },
      "source": [
        "if torch.cuda.is_available():\n",
        "  device = torch.device(\"cuda\") # this is the device our model will use for computing\n",
        "  print(f'There are {torch.cuda.device_count()} GPUs available')\n",
        "  print(f'Device name:', torch.cuda.get_device_name(0))\n",
        "else:\n",
        "  print('No GPU available, using CPU instead')\n",
        "  device = torch.device('cpu')"
      ],
      "execution_count": null,
      "outputs": [
        {
          "output_type": "stream",
          "text": [
            "There are 1 GPUs available\n",
            "Device name: Tesla K80\n"
          ],
          "name": "stdout"
        }
      ]
    },
    {
      "cell_type": "markdown",
      "metadata": {
        "id": "r0cRSK-_-jyv"
      },
      "source": [
        "## Text Preprocessing"
      ]
    },
    {
      "cell_type": "code",
      "metadata": {
        "id": "FPZCaZ9w7RfQ"
      },
      "source": [
        "def text_preprocessing(text):\n",
        "    \"\"\"\n",
        "    - Remove entity mentions (eg. '@united')\n",
        "    - Correct errors (eg. '&amp;' to '&')\n",
        "    @param    text (str): a string to be processed.\n",
        "    @return   text (Str): the processed string.\n",
        "    \"\"\"\n",
        "    # Remove '@name'\n",
        "    text = re.sub(r'(@.*?)[\\s]', ' ', text)\n",
        "\n",
        "    # Replace '&amp;' with '&'\n",
        "    text = re.sub(r'&amp;', '&', text)\n",
        "\n",
        "    # Remove trailing whitespace\n",
        "    text = re.sub(r'\\s+', ' ', text).strip()\n",
        "\n",
        "    return text"
      ],
      "execution_count": null,
      "outputs": []
    },
    {
      "cell_type": "markdown",
      "metadata": {
        "id": "ILRxS6oH-vQg"
      },
      "source": [
        "### BERT Tokenizer\n",
        "In order to apply the pre-trained BERT, we must use the tokenizer provided by the library. This is because (1) the model has a specific, fixed vocabulary and (2) the BERT tokenizer has a particular way of handling out-of-vocabulary words.\n",
        "\n",
        "In addition, we have to also add special tokens (`CLS` and `SEP`) to the start and end of each sentence, pad and truncate all sentences to a single constant length, and explicitly specify what are padding tokens with the \"attention mask\".\n",
        "\n",
        "The `encode_plus` method of BERT tokenizer will:\n",
        "\n",
        "(1) split our text into tokens,\n",
        "\n",
        "(2) add the special `[CLS]` and `[SEP]` tokens, and\n",
        "\n",
        "(3) convert these tokens into indexes of the tokenizer vocabulary,\n",
        "\n",
        "(4) pad or truncate sentences to max length, and\n",
        "\n",
        "(5) create attention mask"
      ]
    },
    {
      "cell_type": "code",
      "metadata": {
        "colab": {
          "base_uri": "https://localhost:8080/",
          "height": 166,
          "referenced_widgets": [
            "bb54588c2bd44c549caddc4efa8bd2ca",
            "d87b4e3ca7474139a61687428507236f",
            "e7f18b5ea18f4d06acb29f4a4560e258",
            "9dee343f02674398a4d69f2ff6460040",
            "ad58bf4ffebe4829b339242ef6bf1245",
            "4eb900db632b465f8ced680a189a2a2f",
            "2f76826dad1740418d2987a47fa7b377",
            "616e9743f8434d2e83907d0ffbbc0a77",
            "922ca5fd793e4a209489296a28be8ce4",
            "899b2185f7334e77bf3463c3beed6f5d",
            "eb2023075c574fb0ae2db9215099f5fb",
            "da863feb3a1c4c38b280a4900400e033",
            "d50c55a5e06745dfb4a724834a0b0236",
            "b8a460826da94624a45087a12d515c8f",
            "ef9988bbe14f40a6a590df994d9516cd",
            "33920845a41e490b8e6f9b3d2f422e3b",
            "1981da3bb2f34ae5a4ed55140112f07f",
            "10ad9ca078ea4f2bba1e27d5bf8a11d4",
            "eb08000ef07641c5a0897dd48341a143",
            "893963e59b184e01aa492514c4ec2481",
            "ca418938cccf4c41b1c3b9b93c1dddf5",
            "a66b6e25038440d898ec2cecee02b41e",
            "a5a6069cd3c248be8d310e763ddc0a3c",
            "a33f8faef1924ad88a154c18e6a64680"
          ]
        },
        "id": "vCIHmsBN7tBl",
        "outputId": "c8f48019-89a3-47a4-84ff-55cf1c1a4506"
      },
      "source": [
        "from transformers import BertTokenizer # Importing the tokenizer used for BERT\n",
        "\n",
        "# Defined Tokenizer for BERT\n",
        "tokenizer = BertTokenizer.from_pretrained('bert-base-uncased', do_lower_case=True)"
      ],
      "execution_count": null,
      "outputs": [
        {
          "output_type": "display_data",
          "data": {
            "application/vnd.jupyter.widget-view+json": {
              "model_id": "bb54588c2bd44c549caddc4efa8bd2ca",
              "version_minor": 0,
              "version_major": 2
            },
            "text/plain": [
              "HBox(children=(FloatProgress(value=0.0, description='Downloading', max=231508.0, style=ProgressStyle(descripti…"
            ]
          },
          "metadata": {
            "tags": []
          }
        },
        {
          "output_type": "stream",
          "text": [
            "\n"
          ],
          "name": "stdout"
        },
        {
          "output_type": "display_data",
          "data": {
            "application/vnd.jupyter.widget-view+json": {
              "model_id": "922ca5fd793e4a209489296a28be8ce4",
              "version_minor": 0,
              "version_major": 2
            },
            "text/plain": [
              "HBox(children=(FloatProgress(value=0.0, description='Downloading', max=28.0, style=ProgressStyle(description_w…"
            ]
          },
          "metadata": {
            "tags": []
          }
        },
        {
          "output_type": "stream",
          "text": [
            "\n"
          ],
          "name": "stdout"
        },
        {
          "output_type": "display_data",
          "data": {
            "application/vnd.jupyter.widget-view+json": {
              "model_id": "1981da3bb2f34ae5a4ed55140112f07f",
              "version_minor": 0,
              "version_major": 2
            },
            "text/plain": [
              "HBox(children=(FloatProgress(value=0.0, description='Downloading', max=466062.0, style=ProgressStyle(descripti…"
            ]
          },
          "metadata": {
            "tags": []
          }
        },
        {
          "output_type": "stream",
          "text": [
            "\n"
          ],
          "name": "stdout"
        }
      ]
    },
    {
      "cell_type": "code",
      "metadata": {
        "id": "193q3bkfBsX7"
      },
      "source": [
        "import re\n",
        "# Define function to tokenize a set of text (all this is doing is applying our tokenizer defined above to our data)\n",
        "def bert_preprocess(data):\n",
        "  # empty lists to store outputs\n",
        "  input_ids = [] # These are the numbers we get for each token once we tokenize\n",
        "  attention_masks = [] # These are what we want to pay attention to when going through the self-attention layer in BERT\n",
        "\n",
        "  # For every sentence/sample in our data, we run it through the BERT tokenizer\n",
        "  for text in data:\n",
        "    tokenized_text = tokenizer.encode_plus(\n",
        "        text=text_preprocessing(text), # feed in preprocessed text for each sample\n",
        "        add_special_tokens=True,      # include [CLS] and [SEP]\n",
        "        max_length=512,               # for truncation/padding (how many tokens can it tokenize)\n",
        "        pad_to_max_length=True,       # Pad text to max length,\n",
        "        truncation=True,              # truncate down to 512 numbers\n",
        "        return_attention_mask=True    # return attention mask\n",
        "    )\n",
        "\n",
        "    # add each output to the lists\n",
        "    input_ids.append(tokenized_text.get('input_ids'))\n",
        "    attention_masks.append(tokenized_text.get('attention_mask'))\n",
        "  \n",
        "  # List to PyTorch tensors to get ready to use for computation\n",
        "  input_ids = torch.Tensor(input_ids)\n",
        "  attention_masks = torch.Tensor(attention_masks)\n",
        "\n",
        "  return input_ids, attention_masks"
      ],
      "execution_count": null,
      "outputs": []
    },
    {
      "cell_type": "code",
      "metadata": {
        "id": "k-cYElHsptPD",
        "colab": {
          "base_uri": "https://localhost:8080/"
        },
        "outputId": "f09c6950-82ad-4b5c-caa6-518019d73e49"
      },
      "source": [
        "import numpy as np\n",
        "# Concatenate train and test data\n",
        "all_data = np.concatenate([df_train.text.values, df_test.text.values])\n",
        "\n",
        "# Encodes all our concatenated data\n",
        "encoded_data = [tokenizer.encode(text, add_special_tokens=True) for text in all_data]\n",
        "\n",
        "# Find max length of text\n",
        "max_length = max([len(text) for text in encoded_data])\n",
        "print('Max Length: ', max_length)"
      ],
      "execution_count": null,
      "outputs": [
        {
          "output_type": "stream",
          "text": [
            "Token indices sequence length is longer than the specified maximum sequence length for this model (948 > 512). Running this sequence through the model will result in indexing errors\n"
          ],
          "name": "stderr"
        },
        {
          "output_type": "stream",
          "text": [
            "Max Length:  2132\n"
          ],
          "name": "stdout"
        }
      ]
    },
    {
      "cell_type": "code",
      "metadata": {
        "colab": {
          "base_uri": "https://localhost:8080/"
        },
        "id": "f923Lxt0lvE_",
        "outputId": "b5700254-6acc-4dec-d774-e5dd2b133372"
      },
      "source": [
        "MAX_LEN = 1450\n",
        "\n",
        "token_ids = list(bert_preprocess([X[0]])[0].squeeze().numpy())\n",
        "print('Original: ', X[0])\n",
        "print('Token IDs: ', token_ids)\n",
        "\n",
        "train_inputs, train_masks = bert_preprocess(X_train)\n",
        "val_inputs, val_masks = bert_preprocess(X_val)"
      ],
      "execution_count": null,
      "outputs": [
        {
          "output_type": "stream",
          "text": [
            "Original:  I enjoyed this movie so much that I watched it twice and that is something to say about a documentary. The musical score, cinematography and sound are absolutely stunning as you might expect from an Imax production. Even though it is shot for those huge Imax theaters, it looks and sounds wonderful on my home system. In fact this would make a perfect DVD to demo your system.<br /><br />The subject is also so fascinating. It is about Mario Andretti and his son Michael. I was already a fan of Mario because he is the best racecar drive in history since he is the only person to win the CART Championship, F1 Championship, The Daytona 500 and the Indianapolis 500. The script follows the path of two cars very important to the father and son. The first car is found in a chicken coop and turns out to be the first roadster that Mario ever drove and we follow restoration to gleaming perfection. The other car is Michael's new racecar and we follow it from cutting the mold through the race season. Imax lends just the right magic to make car construction entertaining and fascinating.<br /><br />Paul Newman, who was Michael Amoretti's team owner at the time this movie was made, narrates the film. His anecdotes and witticism, drawn from many years as an owner and driver, lends much to the production.<br /><br />The main feature is the race scenes. Turn up the volume here! There is something about riding along at over 200 mph and the musical score that totally draws you into the screen for an experience you will not forget. Wow!<br /><br />The final magical element is the humanity of the Andretti family. This god of the racing world, Mario Andretti, is loving father who proudly watches over his son's career. They work together so well that every father and son should see this. You can tell that they are a close family. I wish we could all have that experience.\n",
            "Token IDs:  [101.0, 1045.0, 5632.0, 2023.0, 3185.0, 2061.0, 2172.0, 2008.0, 1045.0, 3427.0, 2009.0, 3807.0, 1998.0, 2008.0, 2003.0, 2242.0, 2000.0, 2360.0, 2055.0, 1037.0, 4516.0, 1012.0, 1996.0, 3315.0, 3556.0, 1010.0, 16434.0, 1998.0, 2614.0, 2024.0, 7078.0, 14726.0, 2004.0, 2017.0, 2453.0, 5987.0, 2013.0, 2019.0, 10047.0, 8528.0, 2537.0, 1012.0, 2130.0, 2295.0, 2009.0, 2003.0, 2915.0, 2005.0, 2216.0, 4121.0, 10047.0, 8528.0, 12370.0, 1010.0, 2009.0, 3504.0, 1998.0, 4165.0, 6919.0, 2006.0, 2026.0, 2188.0, 2291.0, 1012.0, 1999.0, 2755.0, 2023.0, 2052.0, 2191.0, 1037.0, 3819.0, 4966.0, 2000.0, 9703.0, 2115.0, 2291.0, 1012.0, 1026.0, 7987.0, 1013.0, 1028.0, 1026.0, 7987.0, 1013.0, 1028.0, 1996.0, 3395.0, 2003.0, 2036.0, 2061.0, 17160.0, 1012.0, 2009.0, 2003.0, 2055.0, 7986.0, 7213.0, 6916.0, 1998.0, 2010.0, 2365.0, 2745.0, 1012.0, 1045.0, 2001.0, 2525.0, 1037.0, 5470.0, 1997.0, 7986.0, 2138.0, 2002.0, 2003.0, 1996.0, 2190.0, 2679.0, 10010.0, 3298.0, 1999.0, 2381.0, 2144.0, 2002.0, 2003.0, 1996.0, 2069.0, 2711.0, 2000.0, 2663.0, 1996.0, 11122.0, 2528.0, 1010.0, 20069.0, 2528.0, 1010.0, 1996.0, 18226.0, 3156.0, 1998.0, 1996.0, 9506.0, 3156.0, 1012.0, 1996.0, 5896.0, 4076.0, 1996.0, 4130.0, 1997.0, 2048.0, 3765.0, 2200.0, 2590.0, 2000.0, 1996.0, 2269.0, 1998.0, 2365.0, 1012.0, 1996.0, 2034.0, 2482.0, 2003.0, 2179.0, 1999.0, 1037.0, 7975.0, 21859.0, 1998.0, 4332.0, 2041.0, 2000.0, 2022.0, 1996.0, 2034.0, 4925.0, 3334.0, 2008.0, 7986.0, 2412.0, 5225.0, 1998.0, 2057.0, 3582.0, 6418.0, 2000.0, 18242.0, 15401.0, 1012.0, 1996.0, 2060.0, 2482.0, 2003.0, 2745.0, 1005.0, 1055.0, 2047.0, 2679.0, 10010.0, 1998.0, 2057.0, 3582.0, 2009.0, 2013.0, 6276.0, 1996.0, 18282.0, 2083.0, 1996.0, 2679.0, 2161.0, 1012.0, 10047.0, 8528.0, 18496.0, 2015.0, 2074.0, 1996.0, 2157.0, 3894.0, 2000.0, 2191.0, 2482.0, 2810.0, 14036.0, 1998.0, 17160.0, 1012.0, 1026.0, 7987.0, 1013.0, 1028.0, 1026.0, 7987.0, 1013.0, 1028.0, 2703.0, 10625.0, 1010.0, 2040.0, 2001.0, 2745.0, 26297.0, 6916.0, 1005.0, 1055.0, 2136.0, 3954.0, 2012.0, 1996.0, 2051.0, 2023.0, 3185.0, 2001.0, 2081.0, 1010.0, 6583.0, 11335.0, 4570.0, 1996.0, 2143.0, 1012.0, 2010.0, 2019.0, 8586.0, 23681.0, 2015.0, 1998.0, 15966.0, 4588.0, 2964.0, 1010.0, 4567.0, 2013.0, 2116.0, 2086.0, 2004.0, 2019.0, 3954.0, 1998.0, 4062.0, 1010.0, 18496.0, 2015.0, 2172.0, 2000.0, 1996.0, 2537.0, 1012.0, 1026.0, 7987.0, 1013.0, 1028.0, 1026.0, 7987.0, 1013.0, 1028.0, 1996.0, 2364.0, 3444.0, 2003.0, 1996.0, 2679.0, 5019.0, 1012.0, 2735.0, 2039.0, 1996.0, 3872.0, 2182.0, 999.0, 2045.0, 2003.0, 2242.0, 2055.0, 5559.0, 2247.0, 2012.0, 2058.0, 3263.0, 5601.0, 1998.0, 1996.0, 3315.0, 3556.0, 2008.0, 6135.0, 9891.0, 2017.0, 2046.0, 1996.0, 3898.0, 2005.0, 2019.0, 3325.0, 2017.0, 2097.0, 2025.0, 5293.0, 1012.0, 10166.0, 999.0, 1026.0, 7987.0, 1013.0, 1028.0, 1026.0, 7987.0, 1013.0, 1028.0, 1996.0, 2345.0, 8687.0, 5783.0, 2003.0, 1996.0, 8438.0, 1997.0, 1996.0, 7213.0, 6916.0, 2155.0, 1012.0, 2023.0, 2643.0, 1997.0, 1996.0, 3868.0, 2088.0, 1010.0, 7986.0, 7213.0, 6916.0, 1010.0, 2003.0, 8295.0, 2269.0, 2040.0, 18067.0, 12197.0, 2058.0, 2010.0, 2365.0, 1005.0, 1055.0, 2476.0, 1012.0, 2027.0, 2147.0, 2362.0, 2061.0, 2092.0, 2008.0, 2296.0, 2269.0, 1998.0, 2365.0, 2323.0, 2156.0, 2023.0, 1012.0, 2017.0, 2064.0, 2425.0, 2008.0, 2027.0, 2024.0, 1037.0, 2485.0, 2155.0, 1012.0, 1045.0, 4299.0, 2057.0, 2071.0, 2035.0, 2031.0, 2008.0, 3325.0, 1012.0, 102.0, 0.0, 0.0, 0.0, 0.0, 0.0, 0.0, 0.0, 0.0, 0.0, 0.0, 0.0, 0.0, 0.0, 0.0, 0.0, 0.0, 0.0, 0.0, 0.0, 0.0, 0.0, 0.0, 0.0, 0.0, 0.0, 0.0, 0.0, 0.0, 0.0, 0.0, 0.0, 0.0, 0.0, 0.0, 0.0, 0.0, 0.0, 0.0, 0.0, 0.0, 0.0, 0.0, 0.0, 0.0, 0.0, 0.0, 0.0, 0.0, 0.0, 0.0, 0.0, 0.0, 0.0, 0.0, 0.0, 0.0, 0.0, 0.0, 0.0, 0.0, 0.0, 0.0, 0.0, 0.0, 0.0, 0.0, 0.0, 0.0, 0.0, 0.0, 0.0, 0.0, 0.0, 0.0, 0.0, 0.0, 0.0, 0.0, 0.0, 0.0, 0.0, 0.0, 0.0, 0.0, 0.0, 0.0, 0.0, 0.0, 0.0, 0.0, 0.0]\n"
          ],
          "name": "stdout"
        },
        {
          "output_type": "stream",
          "text": [
            "/usr/local/lib/python3.7/dist-packages/transformers/tokenization_utils_base.py:2110: FutureWarning: The `pad_to_max_length` argument is deprecated and will be removed in a future version, use `padding=True` or `padding='longest'` to pad to the longest sequence in the batch, or use `padding='max_length'` to pad to a max length. In this case, you can give a specific length with `max_length` (e.g. `max_length=45`) or leave max_length to None to pad to the maximal input size of the model (e.g. 512 for Bert).\n",
            "  FutureWarning,\n"
          ],
          "name": "stderr"
        }
      ]
    },
    {
      "cell_type": "markdown",
      "metadata": {
        "id": "nEmtO-e0-5D4"
      },
      "source": [
        "## Instantiate PyTorch DataLoader"
      ]
    },
    {
      "cell_type": "code",
      "metadata": {
        "id": "7JkDF3cH8sis"
      },
      "source": [
        "from torch.utils.data import TensorDataset, DataLoader, RandomSampler, SequentialSampler\n",
        "\n",
        "# Create iterator for our dataset\n",
        "\n",
        "# Convert data to tensors\n",
        "train_labels = torch.Tensor(y_train) # These are just list of 0 and 1 from our training set\n",
        "val_labels = torch.Tensor(y_val) # These are just list of 0 and 1 from our validation set\n",
        "\n",
        "# Batch size (how many samples will we feed in to optimizer at once)\n",
        "batch_size = 8\n",
        "\n",
        "# Create training DataLoader\n",
        "train_data = TensorDataset(train_inputs, train_masks, train_labels)\n",
        "train_sampler = RandomSampler(train_data)\n",
        "# I know that I need to feed in 8 samples at a time to the model!!! ~ train_dataloader\n",
        "train_dataloader = DataLoader(train_data, sampler=train_sampler, batch_size=batch_size) # IMPORTANT!!!\n",
        "\n",
        "# Create validation DataLoader\n",
        "val_data = TensorDataset(val_inputs, val_masks, val_labels)\n",
        "val_sampler = RandomSampler(val_data)\n",
        "val_dataloader = DataLoader(val_data, sampler=val_sampler, batch_size=batch_size)"
      ],
      "execution_count": null,
      "outputs": []
    },
    {
      "cell_type": "markdown",
      "metadata": {
        "id": "uVppvekX-8ac"
      },
      "source": [
        "## Training the Model"
      ]
    },
    {
      "cell_type": "markdown",
      "metadata": {
        "id": "rH2tgTO5_CZN"
      },
      "source": [
        "### BERT Classifier"
      ]
    },
    {
      "cell_type": "code",
      "metadata": {
        "id": "WVypMeeD-_Pw"
      },
      "source": [
        "import torch.nn as nn # allows us to define class as neural network module\n",
        "from transformers import BertModel # We got the BERT pre-trained model!\n",
        "\n",
        "# Create the BertClassifier class\n",
        "class BertClassifier(nn.Module):\n",
        "  def __init__(self, freeze_bert=False):\n",
        "    super(BertClassifier, self).__init__()\n",
        "\n",
        "    # hidden size of BERT, hidden size of classifier and num labels\n",
        "    d_in = 768 # This is the hidden layer size in BERT\n",
        "    hidden_dim = 50 # This is the dimension of hidden layer for our neural network classifier!\n",
        "    d_out = 2 # Why is this 2? (Binary Sentiment Classification - 0: negative and 1: positive)\n",
        "\n",
        "    # LEGO Pieces in action!!!\n",
        "    # Instantiate BERT\n",
        "    self.bert = BertModel.from_pretrained('bert-base-uncased') # Our pretrained BERT model from transformers library\n",
        "\n",
        "    # Let's create a one-layer output layer as our LEGO block classifier\n",
        "    self.classifier = nn.Sequential(\n",
        "        nn.Linear(d_in, hidden_dim), # it will take as input a vector that is 768 in dimension and output dimension 50\n",
        "        nn.ReLU(), # activation function that bounds our outputs to between 0 and 1 so that our gradients don't get too large\n",
        "        nn.Linear(hidden_dim, d_out) # it will take as input a vector that is 50 in dimension and output dimension 2 \n",
        "    ) # This is what we will tag onto BERT for sentiment classification\n",
        "\n",
        "    # Freeze BERT weights\n",
        "    if freeze_bert:\n",
        "      for param in self.bert.parameters():\n",
        "        param.requires_grad = False\n",
        "    \n",
        "  # Forwardpass: propagate data through our network defined above\n",
        "  def forward(self, input_ids, attention_mask):\n",
        "    ''' Parameters:\n",
        "    input_ids = what does our text look like in numeric form (tokenized)\n",
        "    attention_mask = how much does each word 'pay attention' to the other for its encoding\n",
        "    '''\n",
        "\n",
        "    # Feed input to BERT\n",
        "    outputs = self.bert(input_ids=input_ids, attention_mask=attention_mask)\n",
        "\n",
        "    # Extract the hidden state of the [CLS] token for classification\n",
        "    hidden_state_CLS = outputs[0][:, 0, :] # Tells our model that we want to do classification!!!\n",
        "\n",
        "    # Feed in BERT output into the LEGO block neural network we defined above\n",
        "    logits = self.classifier(hidden_state_CLS) # This outputs two probabilities\n",
        "\n",
        "    return logits\n"
      ],
      "execution_count": null,
      "outputs": []
    },
    {
      "cell_type": "markdown",
      "metadata": {
        "id": "EYkznqS4_ECd"
      },
      "source": [
        "### Optimizer and Learning Rate"
      ]
    },
    {
      "cell_type": "code",
      "metadata": {
        "id": "Kxk3R0Gr_Gug"
      },
      "source": [
        "from transformers import AdamW, get_linear_schedule_with_warmup\n",
        "\n",
        "def initialize_model(epochs=4): # epoch = iteration\n",
        "  # Instantiate BERT Classifier\n",
        "  bert_classifier = BertClassifier(freeze_bert=False)\n",
        "\n",
        "  # Attach model to GPU\n",
        "  # bert_classifier.to(device)\n",
        "\n",
        "  # Instantiate Adam Optimizer for Gradient Descent (How are we going to do gradient descent?)\n",
        "  optimizer = AdamW(bert_classifier.parameters(), lr=5e-5, eps=1e-8)\n",
        "\n",
        "  # Total number of training iterations\n",
        "  total_steps = len(train_dataloader) * epochs\n",
        "\n",
        "  # Set up the scheduler for the learning rate optimization (super nice bc it updates learning rate according to how the model is performing)\n",
        "  scheduler = get_linear_schedule_with_warmup(optimizer, num_warmup_steps=0, num_training_steps=total_steps)\n",
        "\n",
        "  return bert_classifier, optimizer, scheduler # we return our model and how we are gonna do gradient descent"
      ],
      "execution_count": null,
      "outputs": []
    },
    {
      "cell_type": "markdown",
      "metadata": {
        "id": "DYbk4EVP_HSL"
      },
      "source": [
        "### Training Loop"
      ]
    },
    {
      "cell_type": "code",
      "metadata": {
        "id": "PFeL3T1K_Ixa"
      },
      "source": [
        "import random\n",
        "import time\n",
        "\n",
        "# We will use Cross Entropy Loss\n",
        "loss_fn = nn.CrossEntropyLoss() # this tells model how bad it did\n",
        "\n",
        "def set_seed(seed_value=42):\n",
        "  random.seed(seed_value)\n",
        "  np.random.seed(seed_value)\n",
        "  torch.manual_seed(seed_value)\n",
        "  torch.cuda.manual_seed_all(seed_value)"
      ],
      "execution_count": null,
      "outputs": []
    },
    {
      "cell_type": "code",
      "metadata": {
        "id": "u3BPWecQq2MU"
      },
      "source": [
        "def train(model, train_dataloader, val_dataloader=None, epochs=4, evaluation=False):\n",
        "  # We want to run our training data through our model\n",
        "  print('Start Training.......')\n",
        "  for epoch in range(epochs):\n",
        "    print(f\"{'Epoch':^7} | {'Batch':^7} | {'Train Loss':^12} | {'Val Loss':^10} | {'Val Acc':^9} | {'Train Acc':^12} \")\n",
        "    print(\"-\"*70)\n",
        "\n",
        "    # Measure the elapsed time of each epoch\n",
        "    t0_epoch, t0_batch = time.time(), time.time()\n",
        "\n",
        "    # Reset tracking variables at the beginning of each epoch\n",
        "    total_loss, batch_loss, batch_counts = 0, 0, 0\n",
        "\n",
        "    # Put the model into the training mode\n",
        "    model.train()\n",
        "\n",
        "    train_accuracy = [] # keep track of accuracies at each iteration\n",
        "\n",
        "    # Main loop\n",
        "    for step, batch in enumerate(train_dataloader):\n",
        "      batch_counts += 1\n",
        "\n",
        "      # Have to load the current batch (size = 8) to the GPU\n",
        "      # For each of the 8 examples in our batch, get the input_ids, attention_mask, and ground-truth labels\n",
        "      batch_input_ids, batch_attention_mask, batch_labels = tuple(t.to(device).long() for t in batch)\n",
        "\n",
        "      # Zero out any gradients from previous runs\n",
        "      model.zero_grad()\n",
        "\n",
        "      # Forwardpass here we come!\n",
        "      logits = model(batch_input_ids, batch_attention_mask)\n",
        "\n",
        "      # Let's now compute the error of the model (Cross Entropy Loss)\n",
        "      loss = loss_fn(logits, batch_labels) # How does the prediction compare to what the actual label was\n",
        "      batch_loss += loss.item()\n",
        "      total_loss += loss.item()\n",
        "\n",
        "      # Prediction\n",
        "      predictions = torch.argmax(logits, dim=1).flatten() # This is our predicted label\n",
        "\n",
        "      # Compute accuracy\n",
        "      train_acc = (predictions == batch_labels).cpu().numpy().mean() * 100 # grading the model! How many did we get correct?\n",
        "      train_accuracy.append(train_acc) # keep track of accuracy\n",
        "\n",
        "      # Time to tell our model what it did wrong! (backpropagation)\n",
        "      loss.backward()\n",
        "\n",
        "      # Gradient Clipping: We often do this so our gradients don't get too big and cause our model to run forever\n",
        "      torch.nn.utils.clip_grad_norm_(model.parameters(), 1.0)\n",
        "\n",
        "      # Tell parameters how to change for next run\n",
        "      optimizer.step()\n",
        "      scheduler.step()\n",
        "\n",
        "      # Print the loss values and time elapsed for every 20 batches\n",
        "      if (step % 20 == 0 and step != 0) or (step == len(train_dataloader) - 1):\n",
        "          # Calculate time elapsed for 20 batches\n",
        "          time_elapsed = time.time() - t0_batch\n",
        "\n",
        "          # Print training results\n",
        "          print(f\"{epoch + 1:^7} | {step:^7} | {batch_loss / batch_counts:^12.6f} | {'-':^10} | {'-':^9} | {time_elapsed:^9.2f}\")\n",
        "\n",
        "          # Reset batch tracking variables\n",
        "          batch_loss, batch_counts = 0, 0\n",
        "          t0_batch = time.time()\n",
        "\n",
        "    # Calculate the average loss over the entire training data\n",
        "    avg_train_loss = total_loss / len(train_dataloader)\n",
        "    train_accuracy = np.mean(train_accuracy)\n",
        "\n",
        "    print(\"-\"*70)\n",
        "    # =======================================\n",
        "\n",
        "\n",
        "    if evaluation == True:\n",
        "      # After the completion of each training epoch, measure the model's performance\n",
        "      # on our validation set.\n",
        "      val_loss, val_accuracy = evaluate(model, val_dataloader)\n",
        "\n",
        "      # Print performance over the entire training data\n",
        "      time_elapsed = time.time() - t0_epoch\n",
        "      \n",
        "      print(f\"{epoch + 1:^7} | {'-':^7} | {avg_train_loss:^12.6f} | {val_loss:^10.6f} | {val_accuracy:^9.2f} | {train_accuracy:^9.2f}\")\n",
        "      print(\"-\"*70)\n",
        "    print(\"\\n\")\n",
        "\n",
        "    print(\"Training complete!\")\n",
        "\n",
        "\n",
        "def evaluate(model, val_dataloader):\n",
        "  # evaluate our model\n",
        "  model.eval()\n",
        "\n",
        "  # List for losses and accuracies\n",
        "  val_losses = []\n",
        "  val_accuracies = []\n",
        "\n",
        "  # For each batch in the val_dataloader\n",
        "  for batch in val_dataloader:\n",
        "    # Let's again load our batch to the GPU\n",
        "    batch_input_ids, batch_attention_mask, batch_labels = tuple(t.to(device).long() for t in batch)\n",
        "\n",
        "    # Softmax\n",
        "    with torch.no_grad():\n",
        "      logits = model(batch_input_ids, batch_attention_mask)\n",
        "    \n",
        "    # COmpute loss\n",
        "    loss = loss_fn(logits, batch_labels)\n",
        "    val_losses.append(loss.item())\n",
        "\n",
        "    # Prediction\n",
        "    predictions = torch.argmax(logits, dim=1).flatten()\n",
        "\n",
        "    # Compute accuracy\n",
        "    acc = (predictions == batch_labels).cpu().numpy().mean() * 100\n",
        "    val_accuracies.append(acc)\n",
        "\n",
        "  # Average loss and accuracy\n",
        "  val_loss = np.mean(val_losses)\n",
        "  val_accuracy = np.mean(val_accuracies)\n",
        "\n",
        "  return val_loss, val_accuracy"
      ],
      "execution_count": null,
      "outputs": []
    },
    {
      "cell_type": "code",
      "metadata": {
        "colab": {
          "base_uri": "https://localhost:8080/",
          "height": 901,
          "referenced_widgets": [
            "041c123aa06d4bb388f6edd6f474a120",
            "c4c56da7abaa44f399848e196c2ead31",
            "23989b8068764764852e5474d4006c06",
            "56c28140c97443db8c41857f43719a02",
            "454491f08f624ed990ba6949afc7d9b7",
            "1e007990def14170b07ae60b14aad48b",
            "0e159b103a6d40809896cff50de63e49",
            "f79564f86f6d4457b5e87e8e62d6392f",
            "cffde9bf05cd4f438c31e86c91db32da",
            "6a364e2c9c9c4ee6ba0196655ae49147",
            "98215d5a8a374b5dbbcbe84f1784e0e2",
            "81ceb57508714efcab361eddb66f2035",
            "0d24acfae1a84d7a8f0999197d28623e",
            "d98da5ba22414620b6812db0385b25fe",
            "191fe43fe8734337bb8c16aff8712e84",
            "c65cdfc058774045bde1894b83e52afd"
          ]
        },
        "id": "iD6lwFPL5KkA",
        "outputId": "465d91cf-65ef-4d21-d4df-ee121246212c"
      },
      "source": [
        "# Training time!\n",
        "set_seed(42)\n",
        "bert_classifier, optimizer, scheduler = initialize_model(epochs=2)\n",
        "train(bert_classifier.to(device), train_dataloader, val_dataloader, epochs=2, evaluation=True)"
      ],
      "execution_count": null,
      "outputs": [
        {
          "output_type": "display_data",
          "data": {
            "application/vnd.jupyter.widget-view+json": {
              "model_id": "041c123aa06d4bb388f6edd6f474a120",
              "version_minor": 0,
              "version_major": 2
            },
            "text/plain": [
              "HBox(children=(FloatProgress(value=0.0, description='Downloading', max=570.0, style=ProgressStyle(description_…"
            ]
          },
          "metadata": {
            "tags": []
          }
        },
        {
          "output_type": "stream",
          "text": [
            "\n"
          ],
          "name": "stdout"
        },
        {
          "output_type": "display_data",
          "data": {
            "application/vnd.jupyter.widget-view+json": {
              "model_id": "cffde9bf05cd4f438c31e86c91db32da",
              "version_minor": 0,
              "version_major": 2
            },
            "text/plain": [
              "HBox(children=(FloatProgress(value=0.0, description='Downloading', max=440473133.0, style=ProgressStyle(descri…"
            ]
          },
          "metadata": {
            "tags": []
          }
        },
        {
          "output_type": "stream",
          "text": [
            "\n"
          ],
          "name": "stdout"
        },
        {
          "output_type": "stream",
          "text": [
            "Some weights of the model checkpoint at bert-base-uncased were not used when initializing BertModel: ['cls.predictions.transform.dense.bias', 'cls.predictions.transform.dense.weight', 'cls.predictions.transform.LayerNorm.weight', 'cls.predictions.transform.LayerNorm.bias', 'cls.predictions.bias', 'cls.seq_relationship.weight', 'cls.seq_relationship.bias', 'cls.predictions.decoder.weight']\n",
            "- This IS expected if you are initializing BertModel from the checkpoint of a model trained on another task or with another architecture (e.g. initializing a BertForSequenceClassification model from a BertForPreTraining model).\n",
            "- This IS NOT expected if you are initializing BertModel from the checkpoint of a model that you expect to be exactly identical (initializing a BertForSequenceClassification model from a BertForSequenceClassification model).\n"
          ],
          "name": "stderr"
        },
        {
          "output_type": "stream",
          "text": [
            "Start Training.......\n",
            " Epoch  |  Batch  |  Train Loss  |  Val Loss  |  Val Acc  |  Train Acc   \n",
            "----------------------------------------------------------------------\n",
            "   1    |   20    |   0.684713   |     -      |     -     |   29.87  \n",
            "   1    |   40    |   0.484920   |     -      |     -     |   28.53  \n",
            "   1    |   60    |   0.435473   |     -      |     -     |   28.95  \n",
            "   1    |   80    |   0.588908   |     -      |     -     |   29.23  \n",
            "   1    |   87    |   0.428778   |     -      |     -     |   9.58   \n",
            "----------------------------------------------------------------------\n",
            "   1    |    -    |   0.540528   |  0.516980  |   77.84   |   74.29  \n",
            "----------------------------------------------------------------------\n",
            "\n",
            "\n",
            "Training complete!\n",
            " Epoch  |  Batch  |  Train Loss  |  Val Loss  |  Val Acc  |  Train Acc   \n",
            "----------------------------------------------------------------------\n",
            "   2    |   20    |   0.233040   |     -      |     -     |   30.74  \n",
            "   2    |   40    |   0.241897   |     -      |     -     |   29.31  \n",
            "   2    |   60    |   0.170399   |     -      |     -     |   29.21  \n",
            "   2    |   80    |   0.419363   |     -      |     -     |   29.33  \n",
            "   2    |   87    |   0.346849   |     -      |     -     |   9.66   \n",
            "----------------------------------------------------------------------\n",
            "   2    |    -    |   0.272215   |  0.321591  |   89.91   |   92.33  \n",
            "----------------------------------------------------------------------\n",
            "\n",
            "\n",
            "Training complete!\n",
            " Epoch  |  Batch  |  Train Loss  |  Val Loss  |  Val Acc  |  Train Acc   \n",
            "----------------------------------------------------------------------\n",
            "   3    |   20    |   0.032120   |     -      |     -     |   30.64  \n",
            "   3    |   40    |   0.230773   |     -      |     -     |   29.29  \n",
            "   3    |   60    |   0.155203   |     -      |     -     |   29.19  \n",
            "   3    |   80    |   0.053029   |     -      |     -     |   29.26  \n",
            "   3    |   87    |   0.182701   |     -      |     -     |   9.62   \n",
            "----------------------------------------------------------------------\n",
            "   3    |    -    |   0.121972   |  0.312714  |   90.91   |   96.73  \n",
            "----------------------------------------------------------------------\n",
            "\n",
            "\n",
            "Training complete!\n"
          ],
          "name": "stdout"
        }
      ]
    },
    {
      "cell_type": "markdown",
      "metadata": {
        "id": "tvPg2nzosqrr"
      },
      "source": [
        ""
      ]
    },
    {
      "cell_type": "markdown",
      "metadata": {
        "id": "-Idez2He_LJp"
      },
      "source": [
        "## Evaluating the Model"
      ]
    },
    {
      "cell_type": "code",
      "metadata": {
        "id": "P-lriL3e_S-o"
      },
      "source": [
        "import torch.nn.functional as F\n",
        "\n",
        "# How does our model perform on data it hasn't trained on/seen before?\n",
        "def bert_predict(model, test_dataloader):\n",
        "\n",
        "  # Evaluate\n",
        "  model.eval()\n",
        "\n",
        "  all_softmax_results = []\n",
        "\n",
        "  for batch in test_dataloader:\n",
        "    # Predict on the first 3 batches\n",
        "    batch_input_ids, batch_attention_mask = tuple(t.to(device).long() for t in batch)[:2]\n",
        "\n",
        "    # Compute softmax\n",
        "    with torch.no_grad():\n",
        "      logits = model(batch_input_ids, batch_attention_mask)\n",
        "    all_softmax_results.append(logits)\n",
        "\n",
        "    # Concatenate all softmax from each batch\n",
        "    all_logits = torch.cat(all_softmax_results, dim=0)\n",
        "\n",
        "    # Apply softmax\n",
        "    preds = F.softmax(all_logits, dim=1).cpu().numpy()\n",
        "\n",
        "    return preds"
      ],
      "execution_count": null,
      "outputs": []
    },
    {
      "cell_type": "code",
      "metadata": {
        "id": "3BYo1EH53gf2"
      },
      "source": [
        "from sklearn.metrics import accuracy_score, roc_curve, auc\n",
        "import matplotlib.pyplot as plt\n",
        "\n",
        "def evaluate_roc(probs, y_true):\n",
        "    preds = probs[:, 1]\n",
        "    fpr, tpr, threshold = roc_curve(y_true, preds)\n",
        "    roc_auc = auc(fpr, tpr)\n",
        "    print(f'AUC: {roc_auc:.4f}')\n",
        "       \n",
        "    # Get accuracy over the test set\n",
        "    y_pred = np.where(preds >= 0.5, 1, 0)\n",
        "    accuracy = accuracy_score(y_true, y_pred)\n",
        "    print(f'Accuracy: {accuracy*100:.2f}%')\n",
        "    \n",
        "    # Plot ROC AUC\n",
        "    plt.title('Receiver Operating Characteristic')\n",
        "    plt.plot(fpr, tpr, 'b', label = 'AUC = %0.2f' % roc_auc)\n",
        "    plt.legend(loc = 'lower right')\n",
        "    plt.plot([0, 1], [0, 1],'r--')\n",
        "    plt.xlim([0, 1])\n",
        "    plt.ylim([0, 1])\n",
        "    plt.ylabel('True Positive Rate')\n",
        "    plt.xlabel('False Positive Rate')\n",
        "    plt.show()"
      ],
      "execution_count": null,
      "outputs": []
    },
    {
      "cell_type": "code",
      "metadata": {
        "id": "Nwb0LQaYu_up"
      },
      "source": [
        ""
      ],
      "execution_count": null,
      "outputs": []
    },
    {
      "cell_type": "markdown",
      "metadata": {
        "id": "CBEUEWgd_VwN"
      },
      "source": [
        "### Predictions on Test Set"
      ]
    },
    {
      "cell_type": "code",
      "metadata": {
        "id": "t-aKy-cY_Zct",
        "colab": {
          "base_uri": "https://localhost:8080/"
        },
        "outputId": "fd5df571-e0a8-4232-e811-058e8bc53355"
      },
      "source": [
        "df_test.shape"
      ],
      "execution_count": null,
      "outputs": [
        {
          "output_type": "execute_result",
          "data": {
            "text/plain": [
              "(500, 2)"
            ]
          },
          "metadata": {
            "tags": []
          },
          "execution_count": 88
        }
      ]
    },
    {
      "cell_type": "code",
      "metadata": {
        "id": "9F1iMr4KydWW"
      },
      "source": [
        ""
      ],
      "execution_count": null,
      "outputs": []
    },
    {
      "cell_type": "code",
      "metadata": {
        "colab": {
          "base_uri": "https://localhost:8080/"
        },
        "id": "yv03JnZExStM",
        "outputId": "3781a06b-00f5-4518-8c20-8f182a0caad3"
      },
      "source": [
        "test_inputs, test_masks = bert_preprocess(X_test)\n",
        "test_labels = torch.Tensor(y_test)"
      ],
      "execution_count": null,
      "outputs": [
        {
          "output_type": "stream",
          "text": [
            "/usr/local/lib/python3.7/dist-packages/transformers/tokenization_utils_base.py:2110: FutureWarning: The `pad_to_max_length` argument is deprecated and will be removed in a future version, use `padding=True` or `padding='longest'` to pad to the longest sequence in the batch, or use `padding='max_length'` to pad to a max length. In this case, you can give a specific length with `max_length` (e.g. `max_length=45`) or leave max_length to None to pad to the maximal input size of the model (e.g. 512 for Bert).\n",
            "  FutureWarning,\n"
          ],
          "name": "stderr"
        }
      ]
    },
    {
      "cell_type": "code",
      "metadata": {
        "id": "bE4wY62-z_LW"
      },
      "source": [
        ""
      ],
      "execution_count": null,
      "outputs": []
    },
    {
      "cell_type": "code",
      "metadata": {
        "id": "5jO0zbJKxL0_"
      },
      "source": [
        "# Create testing DataLoader\n",
        "test_data = TensorDataset(test_inputs, test_masks, test_labels)\n",
        "test_dataloader = DataLoader(test_data, batch_size=batch_size)"
      ],
      "execution_count": null,
      "outputs": []
    },
    {
      "cell_type": "code",
      "metadata": {
        "colab": {
          "base_uri": "https://localhost:8080/"
        },
        "id": "BXRf0xVK36I2",
        "outputId": "4596e3ad-a5fd-433c-807e-eefb9c2f2366"
      },
      "source": [
        "test_labels[:8]"
      ],
      "execution_count": null,
      "outputs": [
        {
          "output_type": "execute_result",
          "data": {
            "text/plain": [
              "tensor([1., 0., 0., 0., 1., 1., 1., 0.])"
            ]
          },
          "metadata": {
            "tags": []
          },
          "execution_count": 106
        }
      ]
    },
    {
      "cell_type": "code",
      "metadata": {
        "colab": {
          "base_uri": "https://localhost:8080/",
          "height": 330
        },
        "id": "m0ST5cg1v8uM",
        "outputId": "deb5f90f-6947-49da-960f-9ca987a44cbd"
      },
      "source": [
        "preds = bert_predict(bert_classifier.to(device), test_dataloader) # RUN test data through our model to see how it does\n",
        "\n",
        "evaluate_roc(preds, test_labels[:8]) "
      ],
      "execution_count": null,
      "outputs": [
        {
          "output_type": "stream",
          "text": [
            "AUC: 1.0000\n",
            "Accuracy: 100.00%\n"
          ],
          "name": "stdout"
        },
        {
          "output_type": "display_data",
          "data": {
            "image/png": "[encoded data removed]",
            "text/plain": [
              "<Figure size 432x288 with 1 Axes>"
            ]
          },
          "metadata": {
            "tags": [],
            "needs_background": "light"
          }
        }
      ]
    },
    {
      "cell_type": "code",
      "metadata": {
        "colab": {
          "base_uri": "https://localhost:8080/"
        },
        "id": "vmVrCNOuyHNG",
        "outputId": "f0c9062e-0c4e-4c1a-bc9d-fe127d15cddc"
      },
      "source": [
        "preds.shape"
      ],
      "execution_count": null,
      "outputs": [
        {
          "output_type": "execute_result",
          "data": {
            "text/plain": [
              "(8, 2)"
            ]
          },
          "metadata": {
            "tags": []
          },
          "execution_count": 93
        }
      ]
    },
    {
      "cell_type": "code",
      "metadata": {
        "id": "jjoVM7x5wAtA"
      },
      "source": [
        "preds = np.where(preds[:, 1] > 0.9, 1, 0)"
      ],
      "execution_count": null,
      "outputs": []
    },
    {
      "cell_type": "code",
      "metadata": {
        "colab": {
          "base_uri": "https://localhost:8080/"
        },
        "id": "ui_xJwYrwxfd",
        "outputId": "43290eca-36bf-4930-cb52-50b492449e70"
      },
      "source": [
        "print(f'Predicted values: {preds}')\n",
        "print(f'Actual values: {y_test[:8]}')"
      ],
      "execution_count": null,
      "outputs": [
        {
          "output_type": "stream",
          "text": [
            "Predicted values: [1 0 0 0 1 1 1 0]\n",
            "Actual values: [1 0 0 0 1 1 1 0]\n"
          ],
          "name": "stdout"
        }
      ]
    },
    {
      "cell_type": "code",
      "metadata": {
        "colab": {
          "base_uri": "https://localhost:8080/"
        },
        "id": "YZZQ1t0lx_Pz",
        "outputId": "4dea335e-4173-436c-e272-0207209573ee"
      },
      "source": [
        "X_test[:8]"
      ],
      "execution_count": null,
      "outputs": [
        {
          "output_type": "execute_result",
          "data": {
            "text/plain": [
              "array(['Every one should see this movie because each one of us is broken in some way and it may help us realize 1) My life isn\\'t as bad as I thought it was and 2) How important it is to adopt a child in need. There are so many out there. To think that the movie was actually based on a real person made us think deep about life and how the world has and always will be. Corrupt, but that corruption doesn\\'t have to reach your home. We all have a choice! Definitely recommend this one... and while you\\'re at it, I\\'d like to throw in \"The Color Purple\" and \"Woman, Thou Art Loosed\" by T.D. Jakes.<br /><br />These are all movies that are based on life and give us a glimpse of life.',\n",
              "       'Having enjoyed Mike Myers previous work (Waynes World and Saturday Night Live) my expectations of a 60s bond spoof were fairly high. It became plain after the first minute that this was an exercise in how to be as puerile and unfunny as possible. I swit ched off after ten minutes. I watched it the other day a second time to see whether I had been unfair the first time. I switched it off after ten minutes. I find it hard to believe how even a twelve year-old boy could find this funny. The dialogue is an e mbarrassment, Myers is painful to watch (as is Heather Graham) and the succession of characters including Fat Bastard makes matters even worse. Apart from the mildly amusing title and the psychedelic set design this is one of the worst films I have ever seen. I personally recommend you avoid this like the plague, though several friends of mine enjoyed it (maybe they were blindfolded at the time).º',\n",
              "       \"This movie is very disappointing for one who has read the book. As written by Rafael Sabatini, this was a clean cut tale of piracy in the Caribbean, and it would have made a grand motion . Also, it would have been very simple to make. All the action takes place aboard ship and on a deserted island. Unfortunately, the screen writers took the title from Sabatini then threw the rest of the book away. Even the name of the main character was changed, and his screen personality was completely different from that of the individual described in the novel. It's a sad loss for one who loves a good sea story.\",\n",
              "       '1. The Largest Amount of Money Spent was on the package of hot dogs they put on that guy\\'s stomach, the ones that were supposed to be intestines. 2. Ken Shamrock is in it. 3. Ken Shamrock gets destroyed. (he doesn\\'t die which is sad.) 4. It leaves you wanting more... aspirin. 5. The makers of the film are the kind of people who don\\'t care what their monster looks like. \"Just give him a $30 mask.\" \"Good enough for me.\" 6. The Scarecrow RUNS A CHICK OVER. AWESOME. 7. The film-makers don\\'t actually make their actors sing or play the guitar. 8. The Scarecrow uses a volleyball pole as a javelin and impales the dude who doesn\\'t actually play the guitar or sing. 9. The Scarecrow can choke a dude in like 3 seconds. 10. It makes you actually think of all these things and write them down for other people. god what am i doing.',\n",
              "       'Anyone witness to our justice system - or lack thereof will find this film truly satisfying. There weren\\'t too many shades of gray with regard to characters or plot. Virtually every character in this film epitomized what is best and worst about our society. The popularity of this film is probably due to the fact that most of us at one time or another have had to deal with scumbags along with the namby-pamby, lily-livered, melee-mouthed bureaucrats that empower them in the name of \"political correctness\". <br /><br />The performances across the board were compelling. I sympathized with the rape victim - while at the same, found it gratifying to see her wipe the smug, vicious arrogance off the faces of her former attackers. In particular, I found the dyke one of the ugliest characters in all of the films I\\'ve seen, so it was nice to see her former victim shut her mouth for good. The lead rapist and psychopath was equally ugly, so it was only fitting that Dirty Harry himself offed him in a loud grotesque fashion in the end. This was the only sequel in the dirty Harry saga that equaled the first.',\n",
              "       \"Fellowe's drama about a couple's marriage which is threatened by a younger third party which interests the wife of the house (Watson). Wilkinson plays the role very well as the troubled husband who cant control his wife's cheating, and deals with the issue. I also like Rupert everett a lot in his role as William Bule, the man that Watson has the affair with. Although i think Emily Watson is a great actress, i had a bit of a problem with the way her character was written, did not make her too likable (i know a cheater is not supposed to be likable, but some of her actions and things she did had no reasoning behind them). The screenplay was perhaps the weak part of this drama, although Fellowes' direction was good and the performances were also quite good. This film is better than Unfaithful, but not a masterpiece by any means. ---IMDB Rating: 6.7, my rating: 8/10\",\n",
              "       \"This film is one of Tom Cruise's finest films. He captures the audiences imaginations with his role of David Aames. His character can relate to us all in some way.The story line is very clever and keeps the audience on edge throughout the whole film. I never really watched Cruise movies that much before but after seeing this it shows me his true talent. My favourite part in the movie is the end where it all comes to a big conclusion and he find out the truth. If you have not seen this yet you definitely should give it a try. It's one of those films that once you've started watching it you just got to see it until the end or it will keep you thinking and you will regret it. My opinion is you should just go buy it and take a risk thats what I did and it became one of my favourite films of all time. It's A* 10/10 I promise once you watch it, it will stick with you and you will like it forever.\",\n",
              "       \"I can't believe I've just spent one and a half hours watching such a weak film. If there is only one film you have to miss, this is the one.<br /><br />Robert is a teenager whose father's died recently so he starts hanging out with some local anti-social teenagers and using drugs. All these make him subconsciously more violent and at last such subconsciousness explodes...<br /><br />The first thing is that I don't think I can find any sense or trace of great ecstasy in this film, not in any single character. If the director considers what I saw in the last couple of minutes as great ecstasy, I have to say that that's not even close.<br /><br />The use of cinematography is also not mature. Most of the time I couldn't see any facial expressions from the actors and I didn't feel the body language was sufficient enough to make an impact. Maybe the crew was just so tired that they fixed the camera there to include everything in the settings. Everybody happy except the audience.<br /><br />The plot is particularly weak. There are a lot of unrelated scenes and talking which might be supposed to be related but they are really so random that you can never pull them all together, perhaps unless you're the one who wrote them.<br /><br />In the one and a half hour you may find less than 5 minutes of real acting and all other time there are just people walking, talking and moving. So I really can't comment on acting here.<br /><br />Nice choice of music in the last couple of minutes though. Maybe this is the only good thing.<br /><br />I have never given a film a 1 but this film certainly deserves it (at least you laugh when you watch Scary Movies). This is a film about when a failed attempt to portray troubled teenagers meets extremely disturbed audience. Hope you fall into neither group.\"],\n",
              "      dtype=object)"
            ]
          },
          "metadata": {
            "tags": []
          },
          "execution_count": 96
        }
      ]
    },
    {
      "cell_type": "code",
      "metadata": {
        "id": "61qkGDGHzSRO"
      },
      "source": [
        ""
      ],
      "execution_count": null,
      "outputs": []
    }
  ]
}